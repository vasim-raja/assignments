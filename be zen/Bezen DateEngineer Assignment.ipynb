{
 "cells": [
  {
   "cell_type": "markdown",
   "metadata": {},
   "source": [
    "Attached is a CSV file which has the following details about products from various ecommerce sites. <br>\n",
    "● UUID (Primary Key) <br>\n",
    "● Price (String) <br>\n",
    "● Price_unfiltered (String)<br> \n",
    "● Product Type <br>\n",
    "● Category <br>\n",
    "● Level 1 -> This is just a classification of a product. \n"
   ]
  },
  {
   "cell_type": "markdown",
   "metadata": {},
   "source": [
    "Task: Use the database to find the following results from this data. <br>\n",
    "1. Products without prices <br>\n",
    "2. Count of products without prices and with prices in each Product Type, Category, Level 1 <br>\n",
    "3. Correct Product Prices in the correct format (eg: $56) wherever possible and separate them into currency and value columns.<br> \n",
    "4. List out the categories with average price of product. <br>\n",
    "Brownie Points: Use graphs to depict this data. Use of Cloud Services "
   ]
  },
  {
   "cell_type": "code",
   "execution_count": 1,
   "metadata": {},
   "outputs": [],
   "source": [
    "import pandas as pd"
   ]
  },
  {
   "cell_type": "code",
   "execution_count": 2,
   "metadata": {
    "scrolled": true
   },
   "outputs": [
    {
     "data": {
      "text/html": [
       "<div>\n",
       "<style scoped>\n",
       "    .dataframe tbody tr th:only-of-type {\n",
       "        vertical-align: middle;\n",
       "    }\n",
       "\n",
       "    .dataframe tbody tr th {\n",
       "        vertical-align: top;\n",
       "    }\n",
       "\n",
       "    .dataframe thead th {\n",
       "        text-align: right;\n",
       "    }\n",
       "</style>\n",
       "<table border=\"1\" class=\"dataframe\">\n",
       "  <thead>\n",
       "    <tr style=\"text-align: right;\">\n",
       "      <th></th>\n",
       "      <th>uuid</th>\n",
       "      <th>price_string</th>\n",
       "      <th>price_string_unf</th>\n",
       "      <th>product_type</th>\n",
       "      <th>level_1</th>\n",
       "      <th>category</th>\n",
       "    </tr>\n",
       "  </thead>\n",
       "  <tbody>\n",
       "    <tr>\n",
       "      <th>0</th>\n",
       "      <td>638744a4-b0ae-4166-8cb6-5c063c862036</td>\n",
       "      <td>NaN</td>\n",
       "      <td>NaN</td>\n",
       "      <td>TGFwdG9wIENvdmVycy9CYWdz</td>\n",
       "      <td>TGFwdG9wIENhc2U</td>\n",
       "      <td>RWxlY3Ryb25pY3M</td>\n",
       "    </tr>\n",
       "    <tr>\n",
       "      <th>1</th>\n",
       "      <td>ab313969-02cc-48b2-9daf-0054efb70b92</td>\n",
       "      <td>NaN</td>\n",
       "      <td>NaN</td>\n",
       "      <td>QmFraW5nIEN1cHMgYW5kIE1hdHM</td>\n",
       "      <td>QmFraW5nIE1hdHMgLyBCYWtpbmcgZGlzaA</td>\n",
       "      <td>a2l0Y2hpbmcgYW5kIGRpbmluZw</td>\n",
       "    </tr>\n",
       "    <tr>\n",
       "      <th>2</th>\n",
       "      <td>acbd66ff-79f8-467a-91f9-108a45af5626</td>\n",
       "      <td>$19.95</td>\n",
       "      <td>NaN</td>\n",
       "      <td>R3VtbWllcyB2aXRhbWlucyBhbmQgbWluZXJhbHMgZm9yIG...</td>\n",
       "      <td>SW1tdW5pdHkgZ3VtbWllcw</td>\n",
       "      <td>SGVhbHRo</td>\n",
       "    </tr>\n",
       "    <tr>\n",
       "      <th>3</th>\n",
       "      <td>963915d6-b2e3-4098-b242-9410593cf205</td>\n",
       "      <td>$92.00</td>\n",
       "      <td>NaN</td>\n",
       "      <td>U2VydW1z</td>\n",
       "      <td>RmFjZSBTZXJ1bQ</td>\n",
       "      <td>YmVhdXR5IGFuZCBwZXJzb25hbCBjYXJl</td>\n",
       "    </tr>\n",
       "    <tr>\n",
       "      <th>4</th>\n",
       "      <td>b5b68f3c-b1e0-40e5-8ee5-e2f7236c1daf</td>\n",
       "      <td>11.50</td>\n",
       "      <td>NaN</td>\n",
       "      <td>RWF0aW5nIFV0ZW5zaWxzL0N1dGxlcnk</td>\n",
       "      <td>Q2hvcHN0aWNrcw</td>\n",
       "      <td>a2l0Y2hpbmcgYW5kIGRpbmluZw</td>\n",
       "    </tr>\n",
       "  </tbody>\n",
       "</table>\n",
       "</div>"
      ],
      "text/plain": [
       "                                   uuid price_string price_string_unf  \\\n",
       "0  638744a4-b0ae-4166-8cb6-5c063c862036          NaN              NaN   \n",
       "1  ab313969-02cc-48b2-9daf-0054efb70b92          NaN              NaN   \n",
       "2  acbd66ff-79f8-467a-91f9-108a45af5626       $19.95              NaN   \n",
       "3  963915d6-b2e3-4098-b242-9410593cf205       $92.00              NaN   \n",
       "4  b5b68f3c-b1e0-40e5-8ee5-e2f7236c1daf        11.50              NaN   \n",
       "\n",
       "                                        product_type  \\\n",
       "0                           TGFwdG9wIENvdmVycy9CYWdz   \n",
       "1                        QmFraW5nIEN1cHMgYW5kIE1hdHM   \n",
       "2  R3VtbWllcyB2aXRhbWlucyBhbmQgbWluZXJhbHMgZm9yIG...   \n",
       "3                                           U2VydW1z   \n",
       "4                    RWF0aW5nIFV0ZW5zaWxzL0N1dGxlcnk   \n",
       "\n",
       "                              level_1                          category  \n",
       "0                     TGFwdG9wIENhc2U                   RWxlY3Ryb25pY3M  \n",
       "1  QmFraW5nIE1hdHMgLyBCYWtpbmcgZGlzaA        a2l0Y2hpbmcgYW5kIGRpbmluZw  \n",
       "2              SW1tdW5pdHkgZ3VtbWllcw                          SGVhbHRo  \n",
       "3                      RmFjZSBTZXJ1bQ  YmVhdXR5IGFuZCBwZXJzb25hbCBjYXJl  \n",
       "4                      Q2hvcHN0aWNrcw        a2l0Y2hpbmcgYW5kIGRpbmluZw  "
      ]
     },
     "execution_count": 2,
     "metadata": {},
     "output_type": "execute_result"
    }
   ],
   "source": [
    "df = pd.read_csv(\"./2022_02_08-02_30_31_AM.csv\")\n",
    "df.head()"
   ]
  },
  {
   "cell_type": "markdown",
   "metadata": {},
   "source": [
    "###### a quick EDA "
   ]
  },
  {
   "cell_type": "code",
   "execution_count": 3,
   "metadata": {},
   "outputs": [
    {
     "name": "stdout",
     "output_type": "stream",
     "text": [
      "<class 'pandas.core.frame.DataFrame'>\n",
      "RangeIndex: 13730000 entries, 0 to 13729999\n",
      "Data columns (total 6 columns):\n",
      " #   Column            Dtype \n",
      "---  ------            ----- \n",
      " 0   uuid              object\n",
      " 1   price_string      object\n",
      " 2   price_string_unf  object\n",
      " 3   product_type      object\n",
      " 4   level_1           object\n",
      " 5   category          object\n",
      "dtypes: object(6)\n",
      "memory usage: 628.5+ MB\n"
     ]
    }
   ],
   "source": [
    "df.info()"
   ]
  },
  {
   "cell_type": "code",
   "execution_count": 4,
   "metadata": {
    "scrolled": false
   },
   "outputs": [
    {
     "data": {
      "text/plain": [
       "uuid                       0\n",
       "price_string         8220000\n",
       "price_string_unf    13420000\n",
       "product_type           10000\n",
       "level_1                50000\n",
       "category               10000\n",
       "dtype: int64"
      ]
     },
     "execution_count": 4,
     "metadata": {},
     "output_type": "execute_result"
    }
   ],
   "source": [
    "df.isnull().sum()"
   ]
  },
  {
   "cell_type": "code",
   "execution_count": 5,
   "metadata": {},
   "outputs": [
    {
     "data": {
      "text/html": [
       "<div>\n",
       "<style scoped>\n",
       "    .dataframe tbody tr th:only-of-type {\n",
       "        vertical-align: middle;\n",
       "    }\n",
       "\n",
       "    .dataframe tbody tr th {\n",
       "        vertical-align: top;\n",
       "    }\n",
       "\n",
       "    .dataframe thead th {\n",
       "        text-align: right;\n",
       "    }\n",
       "</style>\n",
       "<table border=\"1\" class=\"dataframe\">\n",
       "  <thead>\n",
       "    <tr style=\"text-align: right;\">\n",
       "      <th></th>\n",
       "      <th>price_string</th>\n",
       "      <th>product_type</th>\n",
       "    </tr>\n",
       "  </thead>\n",
       "  <tbody>\n",
       "    <tr>\n",
       "      <th>0</th>\n",
       "      <td>NaN</td>\n",
       "      <td>TGFwdG9wIENvdmVycy9CYWdz</td>\n",
       "    </tr>\n",
       "    <tr>\n",
       "      <th>1</th>\n",
       "      <td>NaN</td>\n",
       "      <td>QmFraW5nIEN1cHMgYW5kIE1hdHM</td>\n",
       "    </tr>\n",
       "    <tr>\n",
       "      <th>2</th>\n",
       "      <td>$19.95</td>\n",
       "      <td>R3VtbWllcyB2aXRhbWlucyBhbmQgbWluZXJhbHMgZm9yIG...</td>\n",
       "    </tr>\n",
       "    <tr>\n",
       "      <th>3</th>\n",
       "      <td>$92.00</td>\n",
       "      <td>U2VydW1z</td>\n",
       "    </tr>\n",
       "    <tr>\n",
       "      <th>4</th>\n",
       "      <td>11.50</td>\n",
       "      <td>RWF0aW5nIFV0ZW5zaWxzL0N1dGxlcnk</td>\n",
       "    </tr>\n",
       "  </tbody>\n",
       "</table>\n",
       "</div>"
      ],
      "text/plain": [
       "  price_string                                       product_type\n",
       "0          NaN                           TGFwdG9wIENvdmVycy9CYWdz\n",
       "1          NaN                        QmFraW5nIEN1cHMgYW5kIE1hdHM\n",
       "2       $19.95  R3VtbWllcyB2aXRhbWlucyBhbmQgbWluZXJhbHMgZm9yIG...\n",
       "3       $92.00                                           U2VydW1z\n",
       "4        11.50                    RWF0aW5nIFV0ZW5zaWxzL0N1dGxlcnk"
      ]
     },
     "execution_count": 5,
     "metadata": {},
     "output_type": "execute_result"
    }
   ],
   "source": [
    "df1 = df[[\"price_string\",\"product_type\"]] #this line will return a dataframe with columns price_string and product_type\n",
    "df1.head()"
   ]
  },
  {
   "cell_type": "code",
   "execution_count": 6,
   "metadata": {},
   "outputs": [
    {
     "data": {
      "text/plain": [
       "price_string    8220000\n",
       "product_type      10000\n",
       "dtype: int64"
      ]
     },
     "execution_count": 6,
     "metadata": {},
     "output_type": "execute_result"
    }
   ],
   "source": [
    "df1.isnull().sum()"
   ]
  },
  {
   "cell_type": "markdown",
   "metadata": {},
   "source": [
    "there may be chance of having a value in price_string column for a nan value in product_type column, so deleting all the rows having nan value in product_type column is better (to find out the accurate count of Products with prices in the future)"
   ]
  },
  {
   "cell_type": "code",
   "execution_count": 7,
   "metadata": {},
   "outputs": [],
   "source": [
    "df1 = df1[df1['product_type'].notna()]"
   ]
  },
  {
   "cell_type": "code",
   "execution_count": 8,
   "metadata": {},
   "outputs": [
    {
     "data": {
      "text/plain": [
       "price_string    8210000\n",
       "product_type          0\n",
       "dtype: int64"
      ]
     },
     "execution_count": 8,
     "metadata": {},
     "output_type": "execute_result"
    }
   ],
   "source": [
    "df1.isnull().sum()"
   ]
  },
  {
   "cell_type": "code",
   "execution_count": 9,
   "metadata": {},
   "outputs": [
    {
     "data": {
      "text/plain": [
       "0              NaN\n",
       "1              NaN\n",
       "2           $19.95\n",
       "3           $92.00\n",
       "4            11.50\n",
       "             ...  \n",
       "13729995       NaN\n",
       "13729996    $69.99\n",
       "13729997       NaN\n",
       "13729998       NaN\n",
       "13729999    $55.00\n",
       "Name: price_string, Length: 13720000, dtype: object"
      ]
     },
     "execution_count": 9,
     "metadata": {},
     "output_type": "execute_result"
    }
   ],
   "source": [
    "df1.price_string"
   ]
  },
  {
   "cell_type": "code",
   "execution_count": 10,
   "metadata": {},
   "outputs": [],
   "source": [
    "# products without price"
   ]
  },
  {
   "cell_type": "code",
   "execution_count": 11,
   "metadata": {
    "scrolled": false
   },
   "outputs": [
    {
     "data": {
      "text/html": [
       "<div>\n",
       "<style scoped>\n",
       "    .dataframe tbody tr th:only-of-type {\n",
       "        vertical-align: middle;\n",
       "    }\n",
       "\n",
       "    .dataframe tbody tr th {\n",
       "        vertical-align: top;\n",
       "    }\n",
       "\n",
       "    .dataframe thead th {\n",
       "        text-align: right;\n",
       "    }\n",
       "</style>\n",
       "<table border=\"1\" class=\"dataframe\">\n",
       "  <thead>\n",
       "    <tr style=\"text-align: right;\">\n",
       "      <th></th>\n",
       "      <th>price_string</th>\n",
       "      <th>product_type</th>\n",
       "    </tr>\n",
       "  </thead>\n",
       "  <tbody>\n",
       "    <tr>\n",
       "      <th>23</th>\n",
       "      <td>$0.00</td>\n",
       "      <td>QmVkc2hlZXRz</td>\n",
       "    </tr>\n",
       "    <tr>\n",
       "      <th>56</th>\n",
       "      <td>$0.00</td>\n",
       "      <td>Q2hlZWsgbWFrZSB1cA</td>\n",
       "    </tr>\n",
       "    <tr>\n",
       "      <th>250</th>\n",
       "      <td>$0.00</td>\n",
       "      <td>TGlwIEJhbG0</td>\n",
       "    </tr>\n",
       "    <tr>\n",
       "      <th>267</th>\n",
       "      <td>$0.00</td>\n",
       "      <td>RXllIFNoYWRvdw</td>\n",
       "    </tr>\n",
       "    <tr>\n",
       "      <th>397</th>\n",
       "      <td>$0.00</td>\n",
       "      <td>RmFjZSBtYWtlIHVw</td>\n",
       "    </tr>\n",
       "    <tr>\n",
       "      <th>...</th>\n",
       "      <td>...</td>\n",
       "      <td>...</td>\n",
       "    </tr>\n",
       "    <tr>\n",
       "      <th>13729016</th>\n",
       "      <td>$0.00</td>\n",
       "      <td>RHV2ZXQgY292ZXJz</td>\n",
       "    </tr>\n",
       "    <tr>\n",
       "      <th>13729128</th>\n",
       "      <td>$0.00</td>\n",
       "      <td>TGlwIEJhbG0</td>\n",
       "    </tr>\n",
       "    <tr>\n",
       "      <th>13729425</th>\n",
       "      <td>$0.00</td>\n",
       "      <td>TGlwc3RpY2svIExpcCBjb2xvcg</td>\n",
       "    </tr>\n",
       "    <tr>\n",
       "      <th>13729603</th>\n",
       "      <td>$0.00</td>\n",
       "      <td>RmFjZSBtYWtlIHVw</td>\n",
       "    </tr>\n",
       "    <tr>\n",
       "      <th>13729729</th>\n",
       "      <td>$0.00</td>\n",
       "      <td>Q2hlZWsgbWFrZSB1cA</td>\n",
       "    </tr>\n",
       "  </tbody>\n",
       "</table>\n",
       "<p>240000 rows × 2 columns</p>\n",
       "</div>"
      ],
      "text/plain": [
       "         price_string                product_type\n",
       "23              $0.00                QmVkc2hlZXRz\n",
       "56              $0.00          Q2hlZWsgbWFrZSB1cA\n",
       "250             $0.00                 TGlwIEJhbG0\n",
       "267             $0.00              RXllIFNoYWRvdw\n",
       "397             $0.00            RmFjZSBtYWtlIHVw\n",
       "...               ...                         ...\n",
       "13729016        $0.00            RHV2ZXQgY292ZXJz\n",
       "13729128        $0.00                 TGlwIEJhbG0\n",
       "13729425        $0.00  TGlwc3RpY2svIExpcCBjb2xvcg\n",
       "13729603        $0.00            RmFjZSBtYWtlIHVw\n",
       "13729729        $0.00          Q2hlZWsgbWFrZSB1cA\n",
       "\n",
       "[240000 rows x 2 columns]"
      ]
     },
     "execution_count": 11,
     "metadata": {},
     "output_type": "execute_result"
    }
   ],
   "source": [
    "df1[df1.price_string ==  \"$0.00\"]"
   ]
  },
  {
   "cell_type": "code",
   "execution_count": 12,
   "metadata": {},
   "outputs": [
    {
     "data": {
      "text/html": [
       "<div>\n",
       "<style scoped>\n",
       "    .dataframe tbody tr th:only-of-type {\n",
       "        vertical-align: middle;\n",
       "    }\n",
       "\n",
       "    .dataframe tbody tr th {\n",
       "        vertical-align: top;\n",
       "    }\n",
       "\n",
       "    .dataframe thead th {\n",
       "        text-align: right;\n",
       "    }\n",
       "</style>\n",
       "<table border=\"1\" class=\"dataframe\">\n",
       "  <thead>\n",
       "    <tr style=\"text-align: right;\">\n",
       "      <th></th>\n",
       "      <th>price_string</th>\n",
       "      <th>product_type</th>\n",
       "    </tr>\n",
       "  </thead>\n",
       "  <tbody>\n",
       "    <tr>\n",
       "      <th>23</th>\n",
       "      <td>$0.00</td>\n",
       "      <td>QmVkc2hlZXRz</td>\n",
       "    </tr>\n",
       "    <tr>\n",
       "      <th>56</th>\n",
       "      <td>$0.00</td>\n",
       "      <td>Q2hlZWsgbWFrZSB1cA</td>\n",
       "    </tr>\n",
       "    <tr>\n",
       "      <th>250</th>\n",
       "      <td>$0.00</td>\n",
       "      <td>TGlwIEJhbG0</td>\n",
       "    </tr>\n",
       "    <tr>\n",
       "      <th>267</th>\n",
       "      <td>$0.00</td>\n",
       "      <td>RXllIFNoYWRvdw</td>\n",
       "    </tr>\n",
       "    <tr>\n",
       "      <th>397</th>\n",
       "      <td>$0.00</td>\n",
       "      <td>RmFjZSBtYWtlIHVw</td>\n",
       "    </tr>\n",
       "    <tr>\n",
       "      <th>409</th>\n",
       "      <td>$0.00</td>\n",
       "      <td>UGlsbG93Y2FzZXM</td>\n",
       "    </tr>\n",
       "    <tr>\n",
       "      <th>507</th>\n",
       "      <td>$0.00</td>\n",
       "      <td>TGlwIEJhbG0</td>\n",
       "    </tr>\n",
       "    <tr>\n",
       "      <th>528</th>\n",
       "      <td>$0.00</td>\n",
       "      <td>RmFjZSBtYWtlIHVw</td>\n",
       "    </tr>\n",
       "    <tr>\n",
       "      <th>547</th>\n",
       "      <td>$0.00</td>\n",
       "      <td>RHV2ZXQgY292ZXJz</td>\n",
       "    </tr>\n",
       "    <tr>\n",
       "      <th>587</th>\n",
       "      <td>$0.00</td>\n",
       "      <td>RmFjZSBtYWtlIHVw</td>\n",
       "    </tr>\n",
       "  </tbody>\n",
       "</table>\n",
       "</div>"
      ],
      "text/plain": [
       "    price_string        product_type\n",
       "23         $0.00        QmVkc2hlZXRz\n",
       "56         $0.00  Q2hlZWsgbWFrZSB1cA\n",
       "250        $0.00         TGlwIEJhbG0\n",
       "267        $0.00      RXllIFNoYWRvdw\n",
       "397        $0.00    RmFjZSBtYWtlIHVw\n",
       "409        $0.00     UGlsbG93Y2FzZXM\n",
       "507        $0.00         TGlwIEJhbG0\n",
       "528        $0.00    RmFjZSBtYWtlIHVw\n",
       "547        $0.00    RHV2ZXQgY292ZXJz\n",
       "587        $0.00    RmFjZSBtYWtlIHVw"
      ]
     },
     "execution_count": 12,
     "metadata": {},
     "output_type": "execute_result"
    }
   ],
   "source": [
    "df_products_without_price = df1[df1.price_string ==  \"$0.00\"]\n",
    "df_products_without_price.head(10)"
   ]
  },
  {
   "cell_type": "markdown",
   "metadata": {},
   "source": [
    "#### TASK 1: Products without prices \n",
    " "
   ]
  },
  {
   "cell_type": "code",
   "execution_count": 13,
   "metadata": {},
   "outputs": [
    {
     "data": {
      "text/plain": [
       "23                        QmVkc2hlZXRz\n",
       "56                  Q2hlZWsgbWFrZSB1cA\n",
       "250                        TGlwIEJhbG0\n",
       "267                     RXllIFNoYWRvdw\n",
       "397                   RmFjZSBtYWtlIHVw\n",
       "                       ...            \n",
       "13729016              RHV2ZXQgY292ZXJz\n",
       "13729128                   TGlwIEJhbG0\n",
       "13729425    TGlwc3RpY2svIExpcCBjb2xvcg\n",
       "13729603              RmFjZSBtYWtlIHVw\n",
       "13729729            Q2hlZWsgbWFrZSB1cA\n",
       "Name: product_type, Length: 240000, dtype: object"
      ]
     },
     "execution_count": 13,
     "metadata": {},
     "output_type": "execute_result"
    }
   ],
   "source": [
    "df_products_without_price[\"product_type\"]"
   ]
  },
  {
   "cell_type": "code",
   "execution_count": null,
   "metadata": {},
   "outputs": [],
   "source": []
  },
  {
   "cell_type": "code",
   "execution_count": null,
   "metadata": {},
   "outputs": [],
   "source": []
  },
  {
   "cell_type": "markdown",
   "metadata": {},
   "source": [
    "#### 2. Count of products without prices and with prices in each Product Type, Category, Level 1  "
   ]
  },
  {
   "cell_type": "code",
   "execution_count": 14,
   "metadata": {},
   "outputs": [
    {
     "data": {
      "text/html": [
       "<div>\n",
       "<style scoped>\n",
       "    .dataframe tbody tr th:only-of-type {\n",
       "        vertical-align: middle;\n",
       "    }\n",
       "\n",
       "    .dataframe tbody tr th {\n",
       "        vertical-align: top;\n",
       "    }\n",
       "\n",
       "    .dataframe thead th {\n",
       "        text-align: right;\n",
       "    }\n",
       "</style>\n",
       "<table border=\"1\" class=\"dataframe\">\n",
       "  <thead>\n",
       "    <tr style=\"text-align: right;\">\n",
       "      <th></th>\n",
       "      <th>price_string</th>\n",
       "      <th>product_type</th>\n",
       "    </tr>\n",
       "  </thead>\n",
       "  <tbody>\n",
       "    <tr>\n",
       "      <th>2</th>\n",
       "      <td>$19.95</td>\n",
       "      <td>R3VtbWllcyB2aXRhbWlucyBhbmQgbWluZXJhbHMgZm9yIG...</td>\n",
       "    </tr>\n",
       "    <tr>\n",
       "      <th>3</th>\n",
       "      <td>$92.00</td>\n",
       "      <td>U2VydW1z</td>\n",
       "    </tr>\n",
       "    <tr>\n",
       "      <th>4</th>\n",
       "      <td>11.50</td>\n",
       "      <td>RWF0aW5nIFV0ZW5zaWxzL0N1dGxlcnk</td>\n",
       "    </tr>\n",
       "    <tr>\n",
       "      <th>6</th>\n",
       "      <td>$24.99</td>\n",
       "      <td>TW9wcyBhbmQgYnJvb21z</td>\n",
       "    </tr>\n",
       "    <tr>\n",
       "      <th>7</th>\n",
       "      <td>$148.00</td>\n",
       "      <td>V29tZW5zIFBhbnRz</td>\n",
       "    </tr>\n",
       "    <tr>\n",
       "      <th>8</th>\n",
       "      <td>$89</td>\n",
       "      <td>V29tZW5zIFBhbnRz</td>\n",
       "    </tr>\n",
       "    <tr>\n",
       "      <th>9</th>\n",
       "      <td>$14.95</td>\n",
       "      <td>Um9sbGluZyBQaW4</td>\n",
       "    </tr>\n",
       "    <tr>\n",
       "      <th>10</th>\n",
       "      <td>$55.00</td>\n",
       "      <td>Q2FyZHN0b2Nrcw</td>\n",
       "    </tr>\n",
       "    <tr>\n",
       "      <th>11</th>\n",
       "      <td>32.99</td>\n",
       "      <td>Rm9vZCBTdG9yYWdl</td>\n",
       "    </tr>\n",
       "    <tr>\n",
       "      <th>12</th>\n",
       "      <td>$92.00</td>\n",
       "      <td>U2VydW1z</td>\n",
       "    </tr>\n",
       "  </tbody>\n",
       "</table>\n",
       "</div>"
      ],
      "text/plain": [
       "   price_string                                       product_type\n",
       "2        $19.95  R3VtbWllcyB2aXRhbWlucyBhbmQgbWluZXJhbHMgZm9yIG...\n",
       "3        $92.00                                           U2VydW1z\n",
       "4         11.50                    RWF0aW5nIFV0ZW5zaWxzL0N1dGxlcnk\n",
       "6        $24.99                               TW9wcyBhbmQgYnJvb21z\n",
       "7       $148.00                                   V29tZW5zIFBhbnRz\n",
       "8           $89                                   V29tZW5zIFBhbnRz\n",
       "9        $14.95                                    Um9sbGluZyBQaW4\n",
       "10       $55.00                                     Q2FyZHN0b2Nrcw\n",
       "11        32.99                                   Rm9vZCBTdG9yYWdl\n",
       "12       $92.00                                           U2VydW1z"
      ]
     },
     "execution_count": 14,
     "metadata": {},
     "output_type": "execute_result"
    }
   ],
   "source": [
    "df_cleaned_price_string = df1[~df1['price_string'].isna()] #contains no nan values in price_string column)\n",
    "df_cleaned_price_string.head(10)"
   ]
  },
  {
   "cell_type": "code",
   "execution_count": 15,
   "metadata": {},
   "outputs": [
    {
     "data": {
      "text/plain": [
       "(5510000, 2)"
      ]
     },
     "execution_count": 15,
     "metadata": {},
     "output_type": "execute_result"
    }
   ],
   "source": [
    "df_cleaned_price_string.shape"
   ]
  },
  {
   "cell_type": "code",
   "execution_count": 16,
   "metadata": {},
   "outputs": [],
   "source": [
    "df_products_with_price = df_cleaned_price_string[df_cleaned_price_string[\"price_string\"] !=  \"$0.00\"] #selecting only the rows that don't have zero dollars"
   ]
  },
  {
   "cell_type": "code",
   "execution_count": 17,
   "metadata": {},
   "outputs": [
    {
     "data": {
      "text/html": [
       "<div>\n",
       "<style scoped>\n",
       "    .dataframe tbody tr th:only-of-type {\n",
       "        vertical-align: middle;\n",
       "    }\n",
       "\n",
       "    .dataframe tbody tr th {\n",
       "        vertical-align: top;\n",
       "    }\n",
       "\n",
       "    .dataframe thead th {\n",
       "        text-align: right;\n",
       "    }\n",
       "</style>\n",
       "<table border=\"1\" class=\"dataframe\">\n",
       "  <thead>\n",
       "    <tr style=\"text-align: right;\">\n",
       "      <th></th>\n",
       "      <th>price_string</th>\n",
       "      <th>product_type</th>\n",
       "    </tr>\n",
       "  </thead>\n",
       "  <tbody>\n",
       "    <tr>\n",
       "      <th>2</th>\n",
       "      <td>$19.95</td>\n",
       "      <td>R3VtbWllcyB2aXRhbWlucyBhbmQgbWluZXJhbHMgZm9yIG...</td>\n",
       "    </tr>\n",
       "    <tr>\n",
       "      <th>3</th>\n",
       "      <td>$92.00</td>\n",
       "      <td>U2VydW1z</td>\n",
       "    </tr>\n",
       "    <tr>\n",
       "      <th>4</th>\n",
       "      <td>11.50</td>\n",
       "      <td>RWF0aW5nIFV0ZW5zaWxzL0N1dGxlcnk</td>\n",
       "    </tr>\n",
       "    <tr>\n",
       "      <th>6</th>\n",
       "      <td>$24.99</td>\n",
       "      <td>TW9wcyBhbmQgYnJvb21z</td>\n",
       "    </tr>\n",
       "    <tr>\n",
       "      <th>7</th>\n",
       "      <td>$148.00</td>\n",
       "      <td>V29tZW5zIFBhbnRz</td>\n",
       "    </tr>\n",
       "    <tr>\n",
       "      <th>8</th>\n",
       "      <td>$89</td>\n",
       "      <td>V29tZW5zIFBhbnRz</td>\n",
       "    </tr>\n",
       "    <tr>\n",
       "      <th>9</th>\n",
       "      <td>$14.95</td>\n",
       "      <td>Um9sbGluZyBQaW4</td>\n",
       "    </tr>\n",
       "    <tr>\n",
       "      <th>10</th>\n",
       "      <td>$55.00</td>\n",
       "      <td>Q2FyZHN0b2Nrcw</td>\n",
       "    </tr>\n",
       "    <tr>\n",
       "      <th>11</th>\n",
       "      <td>32.99</td>\n",
       "      <td>Rm9vZCBTdG9yYWdl</td>\n",
       "    </tr>\n",
       "    <tr>\n",
       "      <th>12</th>\n",
       "      <td>$92.00</td>\n",
       "      <td>U2VydW1z</td>\n",
       "    </tr>\n",
       "  </tbody>\n",
       "</table>\n",
       "</div>"
      ],
      "text/plain": [
       "   price_string                                       product_type\n",
       "2        $19.95  R3VtbWllcyB2aXRhbWlucyBhbmQgbWluZXJhbHMgZm9yIG...\n",
       "3        $92.00                                           U2VydW1z\n",
       "4         11.50                    RWF0aW5nIFV0ZW5zaWxzL0N1dGxlcnk\n",
       "6        $24.99                               TW9wcyBhbmQgYnJvb21z\n",
       "7       $148.00                                   V29tZW5zIFBhbnRz\n",
       "8           $89                                   V29tZW5zIFBhbnRz\n",
       "9        $14.95                                    Um9sbGluZyBQaW4\n",
       "10       $55.00                                     Q2FyZHN0b2Nrcw\n",
       "11        32.99                                   Rm9vZCBTdG9yYWdl\n",
       "12       $92.00                                           U2VydW1z"
      ]
     },
     "execution_count": 17,
     "metadata": {},
     "output_type": "execute_result"
    }
   ],
   "source": [
    "df_products_with_price.head(10)"
   ]
  },
  {
   "cell_type": "markdown",
   "metadata": {},
   "source": [
    "##### Count of products without prices in  Product Type"
   ]
  },
  {
   "cell_type": "code",
   "execution_count": 18,
   "metadata": {},
   "outputs": [
    {
     "data": {
      "text/plain": [
       "240000"
      ]
     },
     "execution_count": 18,
     "metadata": {},
     "output_type": "execute_result"
    }
   ],
   "source": [
    "df_products_without_price.shape[0]"
   ]
  },
  {
   "cell_type": "markdown",
   "metadata": {},
   "source": [
    "##### Count of products with prices in  Product Type"
   ]
  },
  {
   "cell_type": "code",
   "execution_count": 19,
   "metadata": {},
   "outputs": [
    {
     "data": {
      "text/plain": [
       "5270000"
      ]
     },
     "execution_count": 19,
     "metadata": {},
     "output_type": "execute_result"
    }
   ],
   "source": [
    "df_products_with_price.shape[0]"
   ]
  },
  {
   "cell_type": "code",
   "execution_count": null,
   "metadata": {},
   "outputs": [],
   "source": []
  },
  {
   "cell_type": "markdown",
   "metadata": {},
   "source": [
    "#### Count of products with and without prices in categrory"
   ]
  },
  {
   "cell_type": "code",
   "execution_count": 20,
   "metadata": {},
   "outputs": [
    {
     "data": {
      "text/html": [
       "<div>\n",
       "<style scoped>\n",
       "    .dataframe tbody tr th:only-of-type {\n",
       "        vertical-align: middle;\n",
       "    }\n",
       "\n",
       "    .dataframe tbody tr th {\n",
       "        vertical-align: top;\n",
       "    }\n",
       "\n",
       "    .dataframe thead th {\n",
       "        text-align: right;\n",
       "    }\n",
       "</style>\n",
       "<table border=\"1\" class=\"dataframe\">\n",
       "  <thead>\n",
       "    <tr style=\"text-align: right;\">\n",
       "      <th></th>\n",
       "      <th>price_string</th>\n",
       "      <th>category</th>\n",
       "    </tr>\n",
       "  </thead>\n",
       "  <tbody>\n",
       "    <tr>\n",
       "      <th>0</th>\n",
       "      <td>NaN</td>\n",
       "      <td>RWxlY3Ryb25pY3M</td>\n",
       "    </tr>\n",
       "    <tr>\n",
       "      <th>1</th>\n",
       "      <td>NaN</td>\n",
       "      <td>a2l0Y2hpbmcgYW5kIGRpbmluZw</td>\n",
       "    </tr>\n",
       "    <tr>\n",
       "      <th>2</th>\n",
       "      <td>$19.95</td>\n",
       "      <td>SGVhbHRo</td>\n",
       "    </tr>\n",
       "    <tr>\n",
       "      <th>3</th>\n",
       "      <td>$92.00</td>\n",
       "      <td>YmVhdXR5IGFuZCBwZXJzb25hbCBjYXJl</td>\n",
       "    </tr>\n",
       "    <tr>\n",
       "      <th>4</th>\n",
       "      <td>11.50</td>\n",
       "      <td>a2l0Y2hpbmcgYW5kIGRpbmluZw</td>\n",
       "    </tr>\n",
       "  </tbody>\n",
       "</table>\n",
       "</div>"
      ],
      "text/plain": [
       "  price_string                          category\n",
       "0          NaN                   RWxlY3Ryb25pY3M\n",
       "1          NaN        a2l0Y2hpbmcgYW5kIGRpbmluZw\n",
       "2       $19.95                          SGVhbHRo\n",
       "3       $92.00  YmVhdXR5IGFuZCBwZXJzb25hbCBjYXJl\n",
       "4        11.50        a2l0Y2hpbmcgYW5kIGRpbmluZw"
      ]
     },
     "execution_count": 20,
     "metadata": {},
     "output_type": "execute_result"
    }
   ],
   "source": [
    "df2 = df[[\"price_string\",\"category\"]]\n",
    "df2.head()"
   ]
  },
  {
   "cell_type": "code",
   "execution_count": 21,
   "metadata": {},
   "outputs": [
    {
     "data": {
      "text/plain": [
       "price_string    8220000\n",
       "category          10000\n",
       "dtype: int64"
      ]
     },
     "execution_count": 21,
     "metadata": {},
     "output_type": "execute_result"
    }
   ],
   "source": [
    "df2.isnull().sum()"
   ]
  },
  {
   "cell_type": "markdown",
   "metadata": {},
   "source": [
    "there may be chance of having a value in price_string column for a nan value in category column, so deleting all the rows having nan value in category column is better"
   ]
  },
  {
   "cell_type": "code",
   "execution_count": 22,
   "metadata": {},
   "outputs": [],
   "source": [
    "df2 = df2[df2['category'].notna()]"
   ]
  },
  {
   "cell_type": "code",
   "execution_count": 23,
   "metadata": {},
   "outputs": [
    {
     "data": {
      "text/plain": [
       "price_string    8210000\n",
       "category              0\n",
       "dtype: int64"
      ]
     },
     "execution_count": 23,
     "metadata": {},
     "output_type": "execute_result"
    }
   ],
   "source": [
    "df2.isnull().sum()"
   ]
  },
  {
   "cell_type": "code",
   "execution_count": 24,
   "metadata": {},
   "outputs": [
    {
     "data": {
      "text/html": [
       "<div>\n",
       "<style scoped>\n",
       "    .dataframe tbody tr th:only-of-type {\n",
       "        vertical-align: middle;\n",
       "    }\n",
       "\n",
       "    .dataframe tbody tr th {\n",
       "        vertical-align: top;\n",
       "    }\n",
       "\n",
       "    .dataframe thead th {\n",
       "        text-align: right;\n",
       "    }\n",
       "</style>\n",
       "<table border=\"1\" class=\"dataframe\">\n",
       "  <thead>\n",
       "    <tr style=\"text-align: right;\">\n",
       "      <th></th>\n",
       "      <th>price_string</th>\n",
       "      <th>category</th>\n",
       "    </tr>\n",
       "  </thead>\n",
       "  <tbody>\n",
       "    <tr>\n",
       "      <th>23</th>\n",
       "      <td>$0.00</td>\n",
       "      <td>SG91c2Vob2xkIGFuZCBDbGVhbmluZw</td>\n",
       "    </tr>\n",
       "    <tr>\n",
       "      <th>56</th>\n",
       "      <td>$0.00</td>\n",
       "      <td>YmVhdXR5IGFuZCBwZXJzb25hbCBjYXJl</td>\n",
       "    </tr>\n",
       "    <tr>\n",
       "      <th>250</th>\n",
       "      <td>$0.00</td>\n",
       "      <td>YmVhdXR5IGFuZCBwZXJzb25hbCBjYXJl</td>\n",
       "    </tr>\n",
       "    <tr>\n",
       "      <th>267</th>\n",
       "      <td>$0.00</td>\n",
       "      <td>YmVhdXR5IGFuZCBwZXJzb25hbCBjYXJl</td>\n",
       "    </tr>\n",
       "    <tr>\n",
       "      <th>397</th>\n",
       "      <td>$0.00</td>\n",
       "      <td>YmVhdXR5IGFuZCBwZXJzb25hbCBjYXJl</td>\n",
       "    </tr>\n",
       "    <tr>\n",
       "      <th>...</th>\n",
       "      <td>...</td>\n",
       "      <td>...</td>\n",
       "    </tr>\n",
       "    <tr>\n",
       "      <th>13729016</th>\n",
       "      <td>$0.00</td>\n",
       "      <td>SG91c2Vob2xkIGFuZCBDbGVhbmluZw</td>\n",
       "    </tr>\n",
       "    <tr>\n",
       "      <th>13729128</th>\n",
       "      <td>$0.00</td>\n",
       "      <td>YmVhdXR5IGFuZCBwZXJzb25hbCBjYXJl</td>\n",
       "    </tr>\n",
       "    <tr>\n",
       "      <th>13729425</th>\n",
       "      <td>$0.00</td>\n",
       "      <td>YmVhdXR5IGFuZCBwZXJzb25hbCBjYXJl</td>\n",
       "    </tr>\n",
       "    <tr>\n",
       "      <th>13729603</th>\n",
       "      <td>$0.00</td>\n",
       "      <td>YmVhdXR5IGFuZCBwZXJzb25hbCBjYXJl</td>\n",
       "    </tr>\n",
       "    <tr>\n",
       "      <th>13729729</th>\n",
       "      <td>$0.00</td>\n",
       "      <td>YmVhdXR5IGFuZCBwZXJzb25hbCBjYXJl</td>\n",
       "    </tr>\n",
       "  </tbody>\n",
       "</table>\n",
       "<p>240000 rows × 2 columns</p>\n",
       "</div>"
      ],
      "text/plain": [
       "         price_string                          category\n",
       "23              $0.00    SG91c2Vob2xkIGFuZCBDbGVhbmluZw\n",
       "56              $0.00  YmVhdXR5IGFuZCBwZXJzb25hbCBjYXJl\n",
       "250             $0.00  YmVhdXR5IGFuZCBwZXJzb25hbCBjYXJl\n",
       "267             $0.00  YmVhdXR5IGFuZCBwZXJzb25hbCBjYXJl\n",
       "397             $0.00  YmVhdXR5IGFuZCBwZXJzb25hbCBjYXJl\n",
       "...               ...                               ...\n",
       "13729016        $0.00    SG91c2Vob2xkIGFuZCBDbGVhbmluZw\n",
       "13729128        $0.00  YmVhdXR5IGFuZCBwZXJzb25hbCBjYXJl\n",
       "13729425        $0.00  YmVhdXR5IGFuZCBwZXJzb25hbCBjYXJl\n",
       "13729603        $0.00  YmVhdXR5IGFuZCBwZXJzb25hbCBjYXJl\n",
       "13729729        $0.00  YmVhdXR5IGFuZCBwZXJzb25hbCBjYXJl\n",
       "\n",
       "[240000 rows x 2 columns]"
      ]
     },
     "execution_count": 24,
     "metadata": {},
     "output_type": "execute_result"
    }
   ],
   "source": [
    "df2[df2.price_string ==  \"$0.00\"] #products without prize"
   ]
  },
  {
   "cell_type": "code",
   "execution_count": 25,
   "metadata": {},
   "outputs": [
    {
     "data": {
      "text/html": [
       "<div>\n",
       "<style scoped>\n",
       "    .dataframe tbody tr th:only-of-type {\n",
       "        vertical-align: middle;\n",
       "    }\n",
       "\n",
       "    .dataframe tbody tr th {\n",
       "        vertical-align: top;\n",
       "    }\n",
       "\n",
       "    .dataframe thead th {\n",
       "        text-align: right;\n",
       "    }\n",
       "</style>\n",
       "<table border=\"1\" class=\"dataframe\">\n",
       "  <thead>\n",
       "    <tr style=\"text-align: right;\">\n",
       "      <th></th>\n",
       "      <th>price_string</th>\n",
       "      <th>category</th>\n",
       "    </tr>\n",
       "  </thead>\n",
       "  <tbody>\n",
       "    <tr>\n",
       "      <th>23</th>\n",
       "      <td>$0.00</td>\n",
       "      <td>SG91c2Vob2xkIGFuZCBDbGVhbmluZw</td>\n",
       "    </tr>\n",
       "    <tr>\n",
       "      <th>56</th>\n",
       "      <td>$0.00</td>\n",
       "      <td>YmVhdXR5IGFuZCBwZXJzb25hbCBjYXJl</td>\n",
       "    </tr>\n",
       "    <tr>\n",
       "      <th>250</th>\n",
       "      <td>$0.00</td>\n",
       "      <td>YmVhdXR5IGFuZCBwZXJzb25hbCBjYXJl</td>\n",
       "    </tr>\n",
       "    <tr>\n",
       "      <th>267</th>\n",
       "      <td>$0.00</td>\n",
       "      <td>YmVhdXR5IGFuZCBwZXJzb25hbCBjYXJl</td>\n",
       "    </tr>\n",
       "    <tr>\n",
       "      <th>397</th>\n",
       "      <td>$0.00</td>\n",
       "      <td>YmVhdXR5IGFuZCBwZXJzb25hbCBjYXJl</td>\n",
       "    </tr>\n",
       "    <tr>\n",
       "      <th>409</th>\n",
       "      <td>$0.00</td>\n",
       "      <td>SG91c2Vob2xkIGFuZCBDbGVhbmluZw</td>\n",
       "    </tr>\n",
       "    <tr>\n",
       "      <th>507</th>\n",
       "      <td>$0.00</td>\n",
       "      <td>YmVhdXR5IGFuZCBwZXJzb25hbCBjYXJl</td>\n",
       "    </tr>\n",
       "    <tr>\n",
       "      <th>528</th>\n",
       "      <td>$0.00</td>\n",
       "      <td>YmVhdXR5IGFuZCBwZXJzb25hbCBjYXJl</td>\n",
       "    </tr>\n",
       "    <tr>\n",
       "      <th>547</th>\n",
       "      <td>$0.00</td>\n",
       "      <td>SG91c2Vob2xkIGFuZCBDbGVhbmluZw</td>\n",
       "    </tr>\n",
       "    <tr>\n",
       "      <th>587</th>\n",
       "      <td>$0.00</td>\n",
       "      <td>YmVhdXR5IGFuZCBwZXJzb25hbCBjYXJl</td>\n",
       "    </tr>\n",
       "  </tbody>\n",
       "</table>\n",
       "</div>"
      ],
      "text/plain": [
       "    price_string                          category\n",
       "23         $0.00    SG91c2Vob2xkIGFuZCBDbGVhbmluZw\n",
       "56         $0.00  YmVhdXR5IGFuZCBwZXJzb25hbCBjYXJl\n",
       "250        $0.00  YmVhdXR5IGFuZCBwZXJzb25hbCBjYXJl\n",
       "267        $0.00  YmVhdXR5IGFuZCBwZXJzb25hbCBjYXJl\n",
       "397        $0.00  YmVhdXR5IGFuZCBwZXJzb25hbCBjYXJl\n",
       "409        $0.00    SG91c2Vob2xkIGFuZCBDbGVhbmluZw\n",
       "507        $0.00  YmVhdXR5IGFuZCBwZXJzb25hbCBjYXJl\n",
       "528        $0.00  YmVhdXR5IGFuZCBwZXJzb25hbCBjYXJl\n",
       "547        $0.00    SG91c2Vob2xkIGFuZCBDbGVhbmluZw\n",
       "587        $0.00  YmVhdXR5IGFuZCBwZXJzb25hbCBjYXJl"
      ]
     },
     "execution_count": 25,
     "metadata": {},
     "output_type": "execute_result"
    }
   ],
   "source": [
    "df2_products_without_price = df2[df2.price_string ==  \"$0.00\"]\n",
    "df2_products_without_price.head(10)"
   ]
  },
  {
   "cell_type": "code",
   "execution_count": 26,
   "metadata": {},
   "outputs": [
    {
     "data": {
      "text/html": [
       "<div>\n",
       "<style scoped>\n",
       "    .dataframe tbody tr th:only-of-type {\n",
       "        vertical-align: middle;\n",
       "    }\n",
       "\n",
       "    .dataframe tbody tr th {\n",
       "        vertical-align: top;\n",
       "    }\n",
       "\n",
       "    .dataframe thead th {\n",
       "        text-align: right;\n",
       "    }\n",
       "</style>\n",
       "<table border=\"1\" class=\"dataframe\">\n",
       "  <thead>\n",
       "    <tr style=\"text-align: right;\">\n",
       "      <th></th>\n",
       "      <th>price_string</th>\n",
       "      <th>category</th>\n",
       "    </tr>\n",
       "  </thead>\n",
       "  <tbody>\n",
       "    <tr>\n",
       "      <th>2</th>\n",
       "      <td>$19.95</td>\n",
       "      <td>SGVhbHRo</td>\n",
       "    </tr>\n",
       "    <tr>\n",
       "      <th>3</th>\n",
       "      <td>$92.00</td>\n",
       "      <td>YmVhdXR5IGFuZCBwZXJzb25hbCBjYXJl</td>\n",
       "    </tr>\n",
       "    <tr>\n",
       "      <th>4</th>\n",
       "      <td>11.50</td>\n",
       "      <td>a2l0Y2hpbmcgYW5kIGRpbmluZw</td>\n",
       "    </tr>\n",
       "    <tr>\n",
       "      <th>6</th>\n",
       "      <td>$24.99</td>\n",
       "      <td>SG91c2Vob2xkIGFuZCBDbGVhbmluZw</td>\n",
       "    </tr>\n",
       "    <tr>\n",
       "      <th>7</th>\n",
       "      <td>$148.00</td>\n",
       "      <td>Q2xvdGhpbmcgYW5kIEFjY2Vzc29yaWVz</td>\n",
       "    </tr>\n",
       "    <tr>\n",
       "      <th>8</th>\n",
       "      <td>$89</td>\n",
       "      <td>Q2xvdGhpbmcgYW5kIEFjY2Vzc29yaWVz</td>\n",
       "    </tr>\n",
       "    <tr>\n",
       "      <th>9</th>\n",
       "      <td>$14.95</td>\n",
       "      <td>VG95cyBhbmQgR2FtZXM</td>\n",
       "    </tr>\n",
       "    <tr>\n",
       "      <th>10</th>\n",
       "      <td>$55.00</td>\n",
       "      <td>QXJ0IHN1cHBsaWVz</td>\n",
       "    </tr>\n",
       "    <tr>\n",
       "      <th>11</th>\n",
       "      <td>32.99</td>\n",
       "      <td>a2l0Y2hpbmcgYW5kIGRpbmluZw</td>\n",
       "    </tr>\n",
       "    <tr>\n",
       "      <th>12</th>\n",
       "      <td>$92.00</td>\n",
       "      <td>YmVhdXR5IGFuZCBwZXJzb25hbCBjYXJl</td>\n",
       "    </tr>\n",
       "  </tbody>\n",
       "</table>\n",
       "</div>"
      ],
      "text/plain": [
       "   price_string                          category\n",
       "2        $19.95                          SGVhbHRo\n",
       "3        $92.00  YmVhdXR5IGFuZCBwZXJzb25hbCBjYXJl\n",
       "4         11.50        a2l0Y2hpbmcgYW5kIGRpbmluZw\n",
       "6        $24.99    SG91c2Vob2xkIGFuZCBDbGVhbmluZw\n",
       "7       $148.00  Q2xvdGhpbmcgYW5kIEFjY2Vzc29yaWVz\n",
       "8           $89  Q2xvdGhpbmcgYW5kIEFjY2Vzc29yaWVz\n",
       "9        $14.95               VG95cyBhbmQgR2FtZXM\n",
       "10       $55.00                  QXJ0IHN1cHBsaWVz\n",
       "11        32.99        a2l0Y2hpbmcgYW5kIGRpbmluZw\n",
       "12       $92.00  YmVhdXR5IGFuZCBwZXJzb25hbCBjYXJl"
      ]
     },
     "execution_count": 26,
     "metadata": {},
     "output_type": "execute_result"
    }
   ],
   "source": [
    "df2_cleaned_price_string = df2[~df2['price_string'].isna()] #contains no nan values in price_string column)\n",
    "df2_cleaned_price_string.head(10)"
   ]
  },
  {
   "cell_type": "code",
   "execution_count": 27,
   "metadata": {},
   "outputs": [],
   "source": [
    "df2_products_with_price = df2_cleaned_price_string[df2_cleaned_price_string[\"price_string\"] !=  \"$0.00\"] #selecting only the rows that don't have zero dollars"
   ]
  },
  {
   "cell_type": "code",
   "execution_count": 28,
   "metadata": {},
   "outputs": [
    {
     "data": {
      "text/html": [
       "<div>\n",
       "<style scoped>\n",
       "    .dataframe tbody tr th:only-of-type {\n",
       "        vertical-align: middle;\n",
       "    }\n",
       "\n",
       "    .dataframe tbody tr th {\n",
       "        vertical-align: top;\n",
       "    }\n",
       "\n",
       "    .dataframe thead th {\n",
       "        text-align: right;\n",
       "    }\n",
       "</style>\n",
       "<table border=\"1\" class=\"dataframe\">\n",
       "  <thead>\n",
       "    <tr style=\"text-align: right;\">\n",
       "      <th></th>\n",
       "      <th>price_string</th>\n",
       "      <th>category</th>\n",
       "    </tr>\n",
       "  </thead>\n",
       "  <tbody>\n",
       "    <tr>\n",
       "      <th>2</th>\n",
       "      <td>$19.95</td>\n",
       "      <td>SGVhbHRo</td>\n",
       "    </tr>\n",
       "    <tr>\n",
       "      <th>3</th>\n",
       "      <td>$92.00</td>\n",
       "      <td>YmVhdXR5IGFuZCBwZXJzb25hbCBjYXJl</td>\n",
       "    </tr>\n",
       "    <tr>\n",
       "      <th>4</th>\n",
       "      <td>11.50</td>\n",
       "      <td>a2l0Y2hpbmcgYW5kIGRpbmluZw</td>\n",
       "    </tr>\n",
       "    <tr>\n",
       "      <th>6</th>\n",
       "      <td>$24.99</td>\n",
       "      <td>SG91c2Vob2xkIGFuZCBDbGVhbmluZw</td>\n",
       "    </tr>\n",
       "    <tr>\n",
       "      <th>7</th>\n",
       "      <td>$148.00</td>\n",
       "      <td>Q2xvdGhpbmcgYW5kIEFjY2Vzc29yaWVz</td>\n",
       "    </tr>\n",
       "    <tr>\n",
       "      <th>8</th>\n",
       "      <td>$89</td>\n",
       "      <td>Q2xvdGhpbmcgYW5kIEFjY2Vzc29yaWVz</td>\n",
       "    </tr>\n",
       "    <tr>\n",
       "      <th>9</th>\n",
       "      <td>$14.95</td>\n",
       "      <td>VG95cyBhbmQgR2FtZXM</td>\n",
       "    </tr>\n",
       "    <tr>\n",
       "      <th>10</th>\n",
       "      <td>$55.00</td>\n",
       "      <td>QXJ0IHN1cHBsaWVz</td>\n",
       "    </tr>\n",
       "    <tr>\n",
       "      <th>11</th>\n",
       "      <td>32.99</td>\n",
       "      <td>a2l0Y2hpbmcgYW5kIGRpbmluZw</td>\n",
       "    </tr>\n",
       "    <tr>\n",
       "      <th>12</th>\n",
       "      <td>$92.00</td>\n",
       "      <td>YmVhdXR5IGFuZCBwZXJzb25hbCBjYXJl</td>\n",
       "    </tr>\n",
       "  </tbody>\n",
       "</table>\n",
       "</div>"
      ],
      "text/plain": [
       "   price_string                          category\n",
       "2        $19.95                          SGVhbHRo\n",
       "3        $92.00  YmVhdXR5IGFuZCBwZXJzb25hbCBjYXJl\n",
       "4         11.50        a2l0Y2hpbmcgYW5kIGRpbmluZw\n",
       "6        $24.99    SG91c2Vob2xkIGFuZCBDbGVhbmluZw\n",
       "7       $148.00  Q2xvdGhpbmcgYW5kIEFjY2Vzc29yaWVz\n",
       "8           $89  Q2xvdGhpbmcgYW5kIEFjY2Vzc29yaWVz\n",
       "9        $14.95               VG95cyBhbmQgR2FtZXM\n",
       "10       $55.00                  QXJ0IHN1cHBsaWVz\n",
       "11        32.99        a2l0Y2hpbmcgYW5kIGRpbmluZw\n",
       "12       $92.00  YmVhdXR5IGFuZCBwZXJzb25hbCBjYXJl"
      ]
     },
     "execution_count": 28,
     "metadata": {},
     "output_type": "execute_result"
    }
   ],
   "source": [
    "df2_products_with_price.head(10)"
   ]
  },
  {
   "cell_type": "markdown",
   "metadata": {},
   "source": [
    "##### Count of products without prices in categrory"
   ]
  },
  {
   "cell_type": "code",
   "execution_count": 29,
   "metadata": {},
   "outputs": [
    {
     "data": {
      "text/plain": [
       "240000"
      ]
     },
     "execution_count": 29,
     "metadata": {},
     "output_type": "execute_result"
    }
   ],
   "source": [
    "df2_products_without_price.shape[0]"
   ]
  },
  {
   "cell_type": "markdown",
   "metadata": {},
   "source": [
    "##### Count of products with prices in categrory"
   ]
  },
  {
   "cell_type": "code",
   "execution_count": 30,
   "metadata": {},
   "outputs": [
    {
     "data": {
      "text/plain": [
       "5270000"
      ]
     },
     "execution_count": 30,
     "metadata": {},
     "output_type": "execute_result"
    }
   ],
   "source": [
    "df2_products_with_price.shape[0]"
   ]
  },
  {
   "cell_type": "code",
   "execution_count": null,
   "metadata": {},
   "outputs": [],
   "source": []
  },
  {
   "cell_type": "markdown",
   "metadata": {},
   "source": [
    "#### Count of products with and without prices in level_1"
   ]
  },
  {
   "cell_type": "code",
   "execution_count": 31,
   "metadata": {},
   "outputs": [
    {
     "data": {
      "text/html": [
       "<div>\n",
       "<style scoped>\n",
       "    .dataframe tbody tr th:only-of-type {\n",
       "        vertical-align: middle;\n",
       "    }\n",
       "\n",
       "    .dataframe tbody tr th {\n",
       "        vertical-align: top;\n",
       "    }\n",
       "\n",
       "    .dataframe thead th {\n",
       "        text-align: right;\n",
       "    }\n",
       "</style>\n",
       "<table border=\"1\" class=\"dataframe\">\n",
       "  <thead>\n",
       "    <tr style=\"text-align: right;\">\n",
       "      <th></th>\n",
       "      <th>price_string</th>\n",
       "      <th>level_1</th>\n",
       "    </tr>\n",
       "  </thead>\n",
       "  <tbody>\n",
       "    <tr>\n",
       "      <th>0</th>\n",
       "      <td>NaN</td>\n",
       "      <td>TGFwdG9wIENhc2U</td>\n",
       "    </tr>\n",
       "    <tr>\n",
       "      <th>1</th>\n",
       "      <td>NaN</td>\n",
       "      <td>QmFraW5nIE1hdHMgLyBCYWtpbmcgZGlzaA</td>\n",
       "    </tr>\n",
       "    <tr>\n",
       "      <th>2</th>\n",
       "      <td>$19.95</td>\n",
       "      <td>SW1tdW5pdHkgZ3VtbWllcw</td>\n",
       "    </tr>\n",
       "    <tr>\n",
       "      <th>3</th>\n",
       "      <td>$92.00</td>\n",
       "      <td>RmFjZSBTZXJ1bQ</td>\n",
       "    </tr>\n",
       "    <tr>\n",
       "      <th>4</th>\n",
       "      <td>11.50</td>\n",
       "      <td>Q2hvcHN0aWNrcw</td>\n",
       "    </tr>\n",
       "  </tbody>\n",
       "</table>\n",
       "</div>"
      ],
      "text/plain": [
       "  price_string                             level_1\n",
       "0          NaN                     TGFwdG9wIENhc2U\n",
       "1          NaN  QmFraW5nIE1hdHMgLyBCYWtpbmcgZGlzaA\n",
       "2       $19.95              SW1tdW5pdHkgZ3VtbWllcw\n",
       "3       $92.00                      RmFjZSBTZXJ1bQ\n",
       "4        11.50                      Q2hvcHN0aWNrcw"
      ]
     },
     "execution_count": 31,
     "metadata": {},
     "output_type": "execute_result"
    }
   ],
   "source": [
    "df3 = df[[\"price_string\",\"level_1\"]]\n",
    "df3.head()"
   ]
  },
  {
   "cell_type": "code",
   "execution_count": 32,
   "metadata": {},
   "outputs": [
    {
     "data": {
      "text/plain": [
       "price_string    8220000\n",
       "level_1           50000\n",
       "dtype: int64"
      ]
     },
     "execution_count": 32,
     "metadata": {},
     "output_type": "execute_result"
    }
   ],
   "source": [
    "df3.isnull().sum()"
   ]
  },
  {
   "cell_type": "markdown",
   "metadata": {},
   "source": [
    "there may be chance of having a value in price_string column for a nan value in level_1 column, so deleting all the rows having nan value in level_1 column is better"
   ]
  },
  {
   "cell_type": "code",
   "execution_count": 33,
   "metadata": {},
   "outputs": [],
   "source": [
    "df3 = df3[df3['level_1'].notna()]"
   ]
  },
  {
   "cell_type": "code",
   "execution_count": 34,
   "metadata": {},
   "outputs": [
    {
     "data": {
      "text/plain": [
       "price_string    8180000\n",
       "level_1               0\n",
       "dtype: int64"
      ]
     },
     "execution_count": 34,
     "metadata": {},
     "output_type": "execute_result"
    }
   ],
   "source": [
    "df3.isnull().sum()"
   ]
  },
  {
   "cell_type": "code",
   "execution_count": 35,
   "metadata": {},
   "outputs": [
    {
     "data": {
      "text/html": [
       "<div>\n",
       "<style scoped>\n",
       "    .dataframe tbody tr th:only-of-type {\n",
       "        vertical-align: middle;\n",
       "    }\n",
       "\n",
       "    .dataframe tbody tr th {\n",
       "        vertical-align: top;\n",
       "    }\n",
       "\n",
       "    .dataframe thead th {\n",
       "        text-align: right;\n",
       "    }\n",
       "</style>\n",
       "<table border=\"1\" class=\"dataframe\">\n",
       "  <thead>\n",
       "    <tr style=\"text-align: right;\">\n",
       "      <th></th>\n",
       "      <th>price_string</th>\n",
       "      <th>level_1</th>\n",
       "    </tr>\n",
       "  </thead>\n",
       "  <tbody>\n",
       "    <tr>\n",
       "      <th>23</th>\n",
       "      <td>$0.00</td>\n",
       "      <td>UGVyY2FsZSBiZWRzaGVldHM</td>\n",
       "    </tr>\n",
       "    <tr>\n",
       "      <th>56</th>\n",
       "      <td>$0.00</td>\n",
       "      <td>RmFjZSBIaWdobGlnaHRlcg</td>\n",
       "    </tr>\n",
       "    <tr>\n",
       "      <th>250</th>\n",
       "      <td>$0.00</td>\n",
       "      <td>TGlwIEJhbG0</td>\n",
       "    </tr>\n",
       "    <tr>\n",
       "      <th>267</th>\n",
       "      <td>$0.00</td>\n",
       "      <td>RXllIFNoYWRvdw</td>\n",
       "    </tr>\n",
       "    <tr>\n",
       "      <th>397</th>\n",
       "      <td>$0.00</td>\n",
       "      <td>Q29uY2VhbGVy</td>\n",
       "    </tr>\n",
       "    <tr>\n",
       "      <th>...</th>\n",
       "      <td>...</td>\n",
       "      <td>...</td>\n",
       "    </tr>\n",
       "    <tr>\n",
       "      <th>13729016</th>\n",
       "      <td>$0.00</td>\n",
       "      <td>cGVyY2FsZSBkdXZldCBjb3Zlcg</td>\n",
       "    </tr>\n",
       "    <tr>\n",
       "      <th>13729128</th>\n",
       "      <td>$0.00</td>\n",
       "      <td>TGlwIEJhbG0</td>\n",
       "    </tr>\n",
       "    <tr>\n",
       "      <th>13729425</th>\n",
       "      <td>$0.00</td>\n",
       "      <td>TGlwIENvbG9yL0xpcHN0aWNr</td>\n",
       "    </tr>\n",
       "    <tr>\n",
       "      <th>13729603</th>\n",
       "      <td>$0.00</td>\n",
       "      <td>Q29uY2VhbGVy</td>\n",
       "    </tr>\n",
       "    <tr>\n",
       "      <th>13729729</th>\n",
       "      <td>$0.00</td>\n",
       "      <td>RmFjZSBIaWdobGlnaHRlcg</td>\n",
       "    </tr>\n",
       "  </tbody>\n",
       "</table>\n",
       "<p>240000 rows × 2 columns</p>\n",
       "</div>"
      ],
      "text/plain": [
       "         price_string                     level_1\n",
       "23              $0.00     UGVyY2FsZSBiZWRzaGVldHM\n",
       "56              $0.00      RmFjZSBIaWdobGlnaHRlcg\n",
       "250             $0.00                 TGlwIEJhbG0\n",
       "267             $0.00              RXllIFNoYWRvdw\n",
       "397             $0.00                Q29uY2VhbGVy\n",
       "...               ...                         ...\n",
       "13729016        $0.00  cGVyY2FsZSBkdXZldCBjb3Zlcg\n",
       "13729128        $0.00                 TGlwIEJhbG0\n",
       "13729425        $0.00    TGlwIENvbG9yL0xpcHN0aWNr\n",
       "13729603        $0.00                Q29uY2VhbGVy\n",
       "13729729        $0.00      RmFjZSBIaWdobGlnaHRlcg\n",
       "\n",
       "[240000 rows x 2 columns]"
      ]
     },
     "execution_count": 35,
     "metadata": {},
     "output_type": "execute_result"
    }
   ],
   "source": [
    "df3[df3.price_string ==  \"$0.00\"] #products without prize"
   ]
  },
  {
   "cell_type": "code",
   "execution_count": 36,
   "metadata": {},
   "outputs": [
    {
     "data": {
      "text/html": [
       "<div>\n",
       "<style scoped>\n",
       "    .dataframe tbody tr th:only-of-type {\n",
       "        vertical-align: middle;\n",
       "    }\n",
       "\n",
       "    .dataframe tbody tr th {\n",
       "        vertical-align: top;\n",
       "    }\n",
       "\n",
       "    .dataframe thead th {\n",
       "        text-align: right;\n",
       "    }\n",
       "</style>\n",
       "<table border=\"1\" class=\"dataframe\">\n",
       "  <thead>\n",
       "    <tr style=\"text-align: right;\">\n",
       "      <th></th>\n",
       "      <th>price_string</th>\n",
       "      <th>level_1</th>\n",
       "    </tr>\n",
       "  </thead>\n",
       "  <tbody>\n",
       "    <tr>\n",
       "      <th>23</th>\n",
       "      <td>$0.00</td>\n",
       "      <td>UGVyY2FsZSBiZWRzaGVldHM</td>\n",
       "    </tr>\n",
       "    <tr>\n",
       "      <th>56</th>\n",
       "      <td>$0.00</td>\n",
       "      <td>RmFjZSBIaWdobGlnaHRlcg</td>\n",
       "    </tr>\n",
       "    <tr>\n",
       "      <th>250</th>\n",
       "      <td>$0.00</td>\n",
       "      <td>TGlwIEJhbG0</td>\n",
       "    </tr>\n",
       "    <tr>\n",
       "      <th>267</th>\n",
       "      <td>$0.00</td>\n",
       "      <td>RXllIFNoYWRvdw</td>\n",
       "    </tr>\n",
       "    <tr>\n",
       "      <th>397</th>\n",
       "      <td>$0.00</td>\n",
       "      <td>Q29uY2VhbGVy</td>\n",
       "    </tr>\n",
       "    <tr>\n",
       "      <th>409</th>\n",
       "      <td>$0.00</td>\n",
       "      <td>bGluZW4gcGlsbG93Y2FzZQ</td>\n",
       "    </tr>\n",
       "    <tr>\n",
       "      <th>507</th>\n",
       "      <td>$0.00</td>\n",
       "      <td>TGlwIEJhbG0</td>\n",
       "    </tr>\n",
       "    <tr>\n",
       "      <th>528</th>\n",
       "      <td>$0.00</td>\n",
       "      <td>RmFjZSBQcmltZXI</td>\n",
       "    </tr>\n",
       "    <tr>\n",
       "      <th>547</th>\n",
       "      <td>$0.00</td>\n",
       "      <td>c2F0ZWVuIGR1dmV0IGNvdmVy</td>\n",
       "    </tr>\n",
       "    <tr>\n",
       "      <th>587</th>\n",
       "      <td>$0.00</td>\n",
       "      <td>Q29uY2VhbGVy</td>\n",
       "    </tr>\n",
       "  </tbody>\n",
       "</table>\n",
       "</div>"
      ],
      "text/plain": [
       "    price_string                   level_1\n",
       "23         $0.00   UGVyY2FsZSBiZWRzaGVldHM\n",
       "56         $0.00    RmFjZSBIaWdobGlnaHRlcg\n",
       "250        $0.00               TGlwIEJhbG0\n",
       "267        $0.00            RXllIFNoYWRvdw\n",
       "397        $0.00              Q29uY2VhbGVy\n",
       "409        $0.00    bGluZW4gcGlsbG93Y2FzZQ\n",
       "507        $0.00               TGlwIEJhbG0\n",
       "528        $0.00           RmFjZSBQcmltZXI\n",
       "547        $0.00  c2F0ZWVuIGR1dmV0IGNvdmVy\n",
       "587        $0.00              Q29uY2VhbGVy"
      ]
     },
     "execution_count": 36,
     "metadata": {},
     "output_type": "execute_result"
    }
   ],
   "source": [
    "df3_products_without_price = df3[df3.price_string ==  \"$0.00\"]\n",
    "df3_products_without_price.head(10)"
   ]
  },
  {
   "cell_type": "code",
   "execution_count": 37,
   "metadata": {},
   "outputs": [
    {
     "data": {
      "text/html": [
       "<div>\n",
       "<style scoped>\n",
       "    .dataframe tbody tr th:only-of-type {\n",
       "        vertical-align: middle;\n",
       "    }\n",
       "\n",
       "    .dataframe tbody tr th {\n",
       "        vertical-align: top;\n",
       "    }\n",
       "\n",
       "    .dataframe thead th {\n",
       "        text-align: right;\n",
       "    }\n",
       "</style>\n",
       "<table border=\"1\" class=\"dataframe\">\n",
       "  <thead>\n",
       "    <tr style=\"text-align: right;\">\n",
       "      <th></th>\n",
       "      <th>price_string</th>\n",
       "      <th>level_1</th>\n",
       "    </tr>\n",
       "  </thead>\n",
       "  <tbody>\n",
       "    <tr>\n",
       "      <th>2</th>\n",
       "      <td>$19.95</td>\n",
       "      <td>SW1tdW5pdHkgZ3VtbWllcw</td>\n",
       "    </tr>\n",
       "    <tr>\n",
       "      <th>3</th>\n",
       "      <td>$92.00</td>\n",
       "      <td>RmFjZSBTZXJ1bQ</td>\n",
       "    </tr>\n",
       "    <tr>\n",
       "      <th>4</th>\n",
       "      <td>11.50</td>\n",
       "      <td>Q2hvcHN0aWNrcw</td>\n",
       "    </tr>\n",
       "    <tr>\n",
       "      <th>6</th>\n",
       "      <td>$24.99</td>\n",
       "      <td>TW9w</td>\n",
       "    </tr>\n",
       "    <tr>\n",
       "      <th>7</th>\n",
       "      <td>$148.00</td>\n",
       "      <td>V29tZW5zIFJlZ3VsYXIvQ2FzdWFsIFBhbnRz</td>\n",
       "    </tr>\n",
       "    <tr>\n",
       "      <th>8</th>\n",
       "      <td>$89</td>\n",
       "      <td>V29tZW5zIFRpZ2h0cw</td>\n",
       "    </tr>\n",
       "    <tr>\n",
       "      <th>9</th>\n",
       "      <td>$14.95</td>\n",
       "      <td>UGxheSBEb3VnaCBSb2xsaW5nIFBpbg</td>\n",
       "    </tr>\n",
       "    <tr>\n",
       "      <th>10</th>\n",
       "      <td>$55.00</td>\n",
       "      <td>Q2FyZHM</td>\n",
       "    </tr>\n",
       "    <tr>\n",
       "      <th>11</th>\n",
       "      <td>32.99</td>\n",
       "      <td>Rm9vZCBDb250YWluZXI</td>\n",
       "    </tr>\n",
       "    <tr>\n",
       "      <th>12</th>\n",
       "      <td>$92.00</td>\n",
       "      <td>RmFjZSBTZXJ1bQ</td>\n",
       "    </tr>\n",
       "  </tbody>\n",
       "</table>\n",
       "</div>"
      ],
      "text/plain": [
       "   price_string                               level_1\n",
       "2        $19.95                SW1tdW5pdHkgZ3VtbWllcw\n",
       "3        $92.00                        RmFjZSBTZXJ1bQ\n",
       "4         11.50                        Q2hvcHN0aWNrcw\n",
       "6        $24.99                                  TW9w\n",
       "7       $148.00  V29tZW5zIFJlZ3VsYXIvQ2FzdWFsIFBhbnRz\n",
       "8           $89                    V29tZW5zIFRpZ2h0cw\n",
       "9        $14.95        UGxheSBEb3VnaCBSb2xsaW5nIFBpbg\n",
       "10       $55.00                               Q2FyZHM\n",
       "11        32.99                   Rm9vZCBDb250YWluZXI\n",
       "12       $92.00                        RmFjZSBTZXJ1bQ"
      ]
     },
     "execution_count": 37,
     "metadata": {},
     "output_type": "execute_result"
    }
   ],
   "source": [
    "df3_cleaned_price_string = df3[~df3['price_string'].isna()] #contains no nan values in price_string column)\n",
    "df3_cleaned_price_string.head(10)"
   ]
  },
  {
   "cell_type": "code",
   "execution_count": 38,
   "metadata": {},
   "outputs": [
    {
     "data": {
      "text/html": [
       "<div>\n",
       "<style scoped>\n",
       "    .dataframe tbody tr th:only-of-type {\n",
       "        vertical-align: middle;\n",
       "    }\n",
       "\n",
       "    .dataframe tbody tr th {\n",
       "        vertical-align: top;\n",
       "    }\n",
       "\n",
       "    .dataframe thead th {\n",
       "        text-align: right;\n",
       "    }\n",
       "</style>\n",
       "<table border=\"1\" class=\"dataframe\">\n",
       "  <thead>\n",
       "    <tr style=\"text-align: right;\">\n",
       "      <th></th>\n",
       "      <th>price_string</th>\n",
       "      <th>level_1</th>\n",
       "    </tr>\n",
       "  </thead>\n",
       "  <tbody>\n",
       "    <tr>\n",
       "      <th>2</th>\n",
       "      <td>$19.95</td>\n",
       "      <td>SW1tdW5pdHkgZ3VtbWllcw</td>\n",
       "    </tr>\n",
       "    <tr>\n",
       "      <th>3</th>\n",
       "      <td>$92.00</td>\n",
       "      <td>RmFjZSBTZXJ1bQ</td>\n",
       "    </tr>\n",
       "    <tr>\n",
       "      <th>4</th>\n",
       "      <td>11.50</td>\n",
       "      <td>Q2hvcHN0aWNrcw</td>\n",
       "    </tr>\n",
       "    <tr>\n",
       "      <th>6</th>\n",
       "      <td>$24.99</td>\n",
       "      <td>TW9w</td>\n",
       "    </tr>\n",
       "    <tr>\n",
       "      <th>7</th>\n",
       "      <td>$148.00</td>\n",
       "      <td>V29tZW5zIFJlZ3VsYXIvQ2FzdWFsIFBhbnRz</td>\n",
       "    </tr>\n",
       "    <tr>\n",
       "      <th>8</th>\n",
       "      <td>$89</td>\n",
       "      <td>V29tZW5zIFRpZ2h0cw</td>\n",
       "    </tr>\n",
       "    <tr>\n",
       "      <th>9</th>\n",
       "      <td>$14.95</td>\n",
       "      <td>UGxheSBEb3VnaCBSb2xsaW5nIFBpbg</td>\n",
       "    </tr>\n",
       "    <tr>\n",
       "      <th>10</th>\n",
       "      <td>$55.00</td>\n",
       "      <td>Q2FyZHM</td>\n",
       "    </tr>\n",
       "    <tr>\n",
       "      <th>11</th>\n",
       "      <td>32.99</td>\n",
       "      <td>Rm9vZCBDb250YWluZXI</td>\n",
       "    </tr>\n",
       "    <tr>\n",
       "      <th>12</th>\n",
       "      <td>$92.00</td>\n",
       "      <td>RmFjZSBTZXJ1bQ</td>\n",
       "    </tr>\n",
       "  </tbody>\n",
       "</table>\n",
       "</div>"
      ],
      "text/plain": [
       "   price_string                               level_1\n",
       "2        $19.95                SW1tdW5pdHkgZ3VtbWllcw\n",
       "3        $92.00                        RmFjZSBTZXJ1bQ\n",
       "4         11.50                        Q2hvcHN0aWNrcw\n",
       "6        $24.99                                  TW9w\n",
       "7       $148.00  V29tZW5zIFJlZ3VsYXIvQ2FzdWFsIFBhbnRz\n",
       "8           $89                    V29tZW5zIFRpZ2h0cw\n",
       "9        $14.95        UGxheSBEb3VnaCBSb2xsaW5nIFBpbg\n",
       "10       $55.00                               Q2FyZHM\n",
       "11        32.99                   Rm9vZCBDb250YWluZXI\n",
       "12       $92.00                        RmFjZSBTZXJ1bQ"
      ]
     },
     "execution_count": 38,
     "metadata": {},
     "output_type": "execute_result"
    }
   ],
   "source": [
    "df3_products_with_price = df3_cleaned_price_string[df3_cleaned_price_string[\"price_string\"] !=  \"$0.00\"] #selecting only the rows that don't have zero dollars\n",
    "df3_products_with_price.head(10)"
   ]
  },
  {
   "cell_type": "markdown",
   "metadata": {},
   "source": [
    "##### Count of products without prices in level_1"
   ]
  },
  {
   "cell_type": "code",
   "execution_count": 39,
   "metadata": {},
   "outputs": [
    {
     "data": {
      "text/plain": [
       "240000"
      ]
     },
     "execution_count": 39,
     "metadata": {},
     "output_type": "execute_result"
    }
   ],
   "source": [
    "df3_products_without_price.shape[0]"
   ]
  },
  {
   "cell_type": "markdown",
   "metadata": {},
   "source": [
    "##### Count of products with prices in level_1"
   ]
  },
  {
   "cell_type": "code",
   "execution_count": 40,
   "metadata": {},
   "outputs": [
    {
     "data": {
      "text/plain": [
       "5260000"
      ]
     },
     "execution_count": 40,
     "metadata": {},
     "output_type": "execute_result"
    }
   ],
   "source": [
    "df3_products_with_price.shape[0]"
   ]
  },
  {
   "cell_type": "code",
   "execution_count": null,
   "metadata": {},
   "outputs": [],
   "source": []
  },
  {
   "cell_type": "markdown",
   "metadata": {},
   "source": [
    "## TASK 2: SUMMARY :- "
   ]
  },
  {
   "cell_type": "markdown",
   "metadata": {},
   "source": [
    "Count of products without prices in  Product Type"
   ]
  },
  {
   "cell_type": "code",
   "execution_count": 41,
   "metadata": {},
   "outputs": [
    {
     "data": {
      "text/plain": [
       "240000"
      ]
     },
     "execution_count": 41,
     "metadata": {},
     "output_type": "execute_result"
    }
   ],
   "source": [
    "df_products_without_price.shape[0]"
   ]
  },
  {
   "cell_type": "markdown",
   "metadata": {},
   "source": [
    "Count of products with prices in  Product Type"
   ]
  },
  {
   "cell_type": "code",
   "execution_count": 42,
   "metadata": {},
   "outputs": [
    {
     "data": {
      "text/plain": [
       "5270000"
      ]
     },
     "execution_count": 42,
     "metadata": {},
     "output_type": "execute_result"
    }
   ],
   "source": [
    "df_products_with_price.shape[0]"
   ]
  },
  {
   "cell_type": "markdown",
   "metadata": {},
   "source": [
    "Count of products without prices in  category"
   ]
  },
  {
   "cell_type": "code",
   "execution_count": 43,
   "metadata": {},
   "outputs": [
    {
     "data": {
      "text/plain": [
       "240000"
      ]
     },
     "execution_count": 43,
     "metadata": {},
     "output_type": "execute_result"
    }
   ],
   "source": [
    "df2_products_without_price.shape[0]"
   ]
  },
  {
   "cell_type": "markdown",
   "metadata": {},
   "source": [
    "Count of products with prices in  category"
   ]
  },
  {
   "cell_type": "code",
   "execution_count": 44,
   "metadata": {},
   "outputs": [
    {
     "data": {
      "text/plain": [
       "5270000"
      ]
     },
     "execution_count": 44,
     "metadata": {},
     "output_type": "execute_result"
    }
   ],
   "source": [
    "df2_products_with_price.shape[0]"
   ]
  },
  {
   "cell_type": "markdown",
   "metadata": {},
   "source": [
    "Count of products without prices in  level_1"
   ]
  },
  {
   "cell_type": "code",
   "execution_count": 45,
   "metadata": {},
   "outputs": [
    {
     "data": {
      "text/plain": [
       "240000"
      ]
     },
     "execution_count": 45,
     "metadata": {},
     "output_type": "execute_result"
    }
   ],
   "source": [
    "df3_products_without_price.shape[0]"
   ]
  },
  {
   "cell_type": "markdown",
   "metadata": {},
   "source": [
    "Count of products with prices in  level_1"
   ]
  },
  {
   "cell_type": "code",
   "execution_count": 46,
   "metadata": {},
   "outputs": [
    {
     "data": {
      "text/plain": [
       "5260000"
      ]
     },
     "execution_count": 46,
     "metadata": {},
     "output_type": "execute_result"
    }
   ],
   "source": [
    "df3_products_with_price.shape[0]"
   ]
  },
  {
   "cell_type": "code",
   "execution_count": null,
   "metadata": {},
   "outputs": [],
   "source": []
  },
  {
   "cell_type": "markdown",
   "metadata": {},
   "source": [
    "### 3. Correct Product Prices in the correct format (eg: $56) wherever possible and separate them into currency and value columns.  "
   ]
  },
  {
   "cell_type": "code",
   "execution_count": 47,
   "metadata": {
    "scrolled": false
   },
   "outputs": [
    {
     "data": {
      "text/html": [
       "<div>\n",
       "<style scoped>\n",
       "    .dataframe tbody tr th:only-of-type {\n",
       "        vertical-align: middle;\n",
       "    }\n",
       "\n",
       "    .dataframe tbody tr th {\n",
       "        vertical-align: top;\n",
       "    }\n",
       "\n",
       "    .dataframe thead th {\n",
       "        text-align: right;\n",
       "    }\n",
       "</style>\n",
       "<table border=\"1\" class=\"dataframe\">\n",
       "  <thead>\n",
       "    <tr style=\"text-align: right;\">\n",
       "      <th></th>\n",
       "      <th>uuid</th>\n",
       "      <th>price_string</th>\n",
       "      <th>price_string_unf</th>\n",
       "      <th>product_type</th>\n",
       "      <th>level_1</th>\n",
       "      <th>category</th>\n",
       "    </tr>\n",
       "  </thead>\n",
       "  <tbody>\n",
       "    <tr>\n",
       "      <th>0</th>\n",
       "      <td>638744a4-b0ae-4166-8cb6-5c063c862036</td>\n",
       "      <td>NaN</td>\n",
       "      <td>NaN</td>\n",
       "      <td>TGFwdG9wIENvdmVycy9CYWdz</td>\n",
       "      <td>TGFwdG9wIENhc2U</td>\n",
       "      <td>RWxlY3Ryb25pY3M</td>\n",
       "    </tr>\n",
       "    <tr>\n",
       "      <th>1</th>\n",
       "      <td>ab313969-02cc-48b2-9daf-0054efb70b92</td>\n",
       "      <td>NaN</td>\n",
       "      <td>NaN</td>\n",
       "      <td>QmFraW5nIEN1cHMgYW5kIE1hdHM</td>\n",
       "      <td>QmFraW5nIE1hdHMgLyBCYWtpbmcgZGlzaA</td>\n",
       "      <td>a2l0Y2hpbmcgYW5kIGRpbmluZw</td>\n",
       "    </tr>\n",
       "    <tr>\n",
       "      <th>2</th>\n",
       "      <td>acbd66ff-79f8-467a-91f9-108a45af5626</td>\n",
       "      <td>$19.95</td>\n",
       "      <td>NaN</td>\n",
       "      <td>R3VtbWllcyB2aXRhbWlucyBhbmQgbWluZXJhbHMgZm9yIG...</td>\n",
       "      <td>SW1tdW5pdHkgZ3VtbWllcw</td>\n",
       "      <td>SGVhbHRo</td>\n",
       "    </tr>\n",
       "    <tr>\n",
       "      <th>3</th>\n",
       "      <td>963915d6-b2e3-4098-b242-9410593cf205</td>\n",
       "      <td>$92.00</td>\n",
       "      <td>NaN</td>\n",
       "      <td>U2VydW1z</td>\n",
       "      <td>RmFjZSBTZXJ1bQ</td>\n",
       "      <td>YmVhdXR5IGFuZCBwZXJzb25hbCBjYXJl</td>\n",
       "    </tr>\n",
       "    <tr>\n",
       "      <th>4</th>\n",
       "      <td>b5b68f3c-b1e0-40e5-8ee5-e2f7236c1daf</td>\n",
       "      <td>11.50</td>\n",
       "      <td>NaN</td>\n",
       "      <td>RWF0aW5nIFV0ZW5zaWxzL0N1dGxlcnk</td>\n",
       "      <td>Q2hvcHN0aWNrcw</td>\n",
       "      <td>a2l0Y2hpbmcgYW5kIGRpbmluZw</td>\n",
       "    </tr>\n",
       "  </tbody>\n",
       "</table>\n",
       "</div>"
      ],
      "text/plain": [
       "                                   uuid price_string price_string_unf  \\\n",
       "0  638744a4-b0ae-4166-8cb6-5c063c862036          NaN              NaN   \n",
       "1  ab313969-02cc-48b2-9daf-0054efb70b92          NaN              NaN   \n",
       "2  acbd66ff-79f8-467a-91f9-108a45af5626       $19.95              NaN   \n",
       "3  963915d6-b2e3-4098-b242-9410593cf205       $92.00              NaN   \n",
       "4  b5b68f3c-b1e0-40e5-8ee5-e2f7236c1daf        11.50              NaN   \n",
       "\n",
       "                                        product_type  \\\n",
       "0                           TGFwdG9wIENvdmVycy9CYWdz   \n",
       "1                        QmFraW5nIEN1cHMgYW5kIE1hdHM   \n",
       "2  R3VtbWllcyB2aXRhbWlucyBhbmQgbWluZXJhbHMgZm9yIG...   \n",
       "3                                           U2VydW1z   \n",
       "4                    RWF0aW5nIFV0ZW5zaWxzL0N1dGxlcnk   \n",
       "\n",
       "                              level_1                          category  \n",
       "0                     TGFwdG9wIENhc2U                   RWxlY3Ryb25pY3M  \n",
       "1  QmFraW5nIE1hdHMgLyBCYWtpbmcgZGlzaA        a2l0Y2hpbmcgYW5kIGRpbmluZw  \n",
       "2              SW1tdW5pdHkgZ3VtbWllcw                          SGVhbHRo  \n",
       "3                      RmFjZSBTZXJ1bQ  YmVhdXR5IGFuZCBwZXJzb25hbCBjYXJl  \n",
       "4                      Q2hvcHN0aWNrcw        a2l0Y2hpbmcgYW5kIGRpbmluZw  "
      ]
     },
     "execution_count": 47,
     "metadata": {},
     "output_type": "execute_result"
    }
   ],
   "source": [
    "df.head()"
   ]
  },
  {
   "cell_type": "code",
   "execution_count": 48,
   "metadata": {},
   "outputs": [
    {
     "data": {
      "text/html": [
       "<div>\n",
       "<style scoped>\n",
       "    .dataframe tbody tr th:only-of-type {\n",
       "        vertical-align: middle;\n",
       "    }\n",
       "\n",
       "    .dataframe tbody tr th {\n",
       "        vertical-align: top;\n",
       "    }\n",
       "\n",
       "    .dataframe thead th {\n",
       "        text-align: right;\n",
       "    }\n",
       "</style>\n",
       "<table border=\"1\" class=\"dataframe\">\n",
       "  <thead>\n",
       "    <tr style=\"text-align: right;\">\n",
       "      <th></th>\n",
       "      <th>price_string</th>\n",
       "    </tr>\n",
       "  </thead>\n",
       "  <tbody>\n",
       "    <tr>\n",
       "      <th>0</th>\n",
       "      <td>NaN</td>\n",
       "    </tr>\n",
       "    <tr>\n",
       "      <th>1</th>\n",
       "      <td>NaN</td>\n",
       "    </tr>\n",
       "    <tr>\n",
       "      <th>2</th>\n",
       "      <td>$19.95</td>\n",
       "    </tr>\n",
       "    <tr>\n",
       "      <th>3</th>\n",
       "      <td>$92.00</td>\n",
       "    </tr>\n",
       "    <tr>\n",
       "      <th>4</th>\n",
       "      <td>11.50</td>\n",
       "    </tr>\n",
       "  </tbody>\n",
       "</table>\n",
       "</div>"
      ],
      "text/plain": [
       "  price_string\n",
       "0          NaN\n",
       "1          NaN\n",
       "2       $19.95\n",
       "3       $92.00\n",
       "4        11.50"
      ]
     },
     "execution_count": 48,
     "metadata": {},
     "output_type": "execute_result"
    }
   ],
   "source": [
    "cdf = df[[\"price_string\"]]\n",
    "cdf.head()"
   ]
  },
  {
   "cell_type": "code",
   "execution_count": 49,
   "metadata": {},
   "outputs": [
    {
     "data": {
      "text/html": [
       "<div>\n",
       "<style scoped>\n",
       "    .dataframe tbody tr th:only-of-type {\n",
       "        vertical-align: middle;\n",
       "    }\n",
       "\n",
       "    .dataframe tbody tr th {\n",
       "        vertical-align: top;\n",
       "    }\n",
       "\n",
       "    .dataframe thead th {\n",
       "        text-align: right;\n",
       "    }\n",
       "</style>\n",
       "<table border=\"1\" class=\"dataframe\">\n",
       "  <thead>\n",
       "    <tr style=\"text-align: right;\">\n",
       "      <th></th>\n",
       "      <th>price_string</th>\n",
       "    </tr>\n",
       "  </thead>\n",
       "  <tbody>\n",
       "    <tr>\n",
       "      <th>2</th>\n",
       "      <td>$19.95</td>\n",
       "    </tr>\n",
       "    <tr>\n",
       "      <th>3</th>\n",
       "      <td>$92.00</td>\n",
       "    </tr>\n",
       "    <tr>\n",
       "      <th>4</th>\n",
       "      <td>11.50</td>\n",
       "    </tr>\n",
       "    <tr>\n",
       "      <th>6</th>\n",
       "      <td>$24.99</td>\n",
       "    </tr>\n",
       "    <tr>\n",
       "      <th>7</th>\n",
       "      <td>$148.00</td>\n",
       "    </tr>\n",
       "  </tbody>\n",
       "</table>\n",
       "</div>"
      ],
      "text/plain": [
       "  price_string\n",
       "2       $19.95\n",
       "3       $92.00\n",
       "4        11.50\n",
       "6       $24.99\n",
       "7      $148.00"
      ]
     },
     "execution_count": 49,
     "metadata": {},
     "output_type": "execute_result"
    }
   ],
   "source": [
    "cdf = cdf.dropna()\n",
    "cdf.head()"
   ]
  },
  {
   "cell_type": "code",
   "execution_count": 50,
   "metadata": {},
   "outputs": [
    {
     "data": {
      "text/html": [
       "<div>\n",
       "<style scoped>\n",
       "    .dataframe tbody tr th:only-of-type {\n",
       "        vertical-align: middle;\n",
       "    }\n",
       "\n",
       "    .dataframe tbody tr th {\n",
       "        vertical-align: top;\n",
       "    }\n",
       "\n",
       "    .dataframe thead th {\n",
       "        text-align: right;\n",
       "    }\n",
       "</style>\n",
       "<table border=\"1\" class=\"dataframe\">\n",
       "  <thead>\n",
       "    <tr style=\"text-align: right;\">\n",
       "      <th></th>\n",
       "      <th>price_string</th>\n",
       "      <th>currency</th>\n",
       "      <th>value</th>\n",
       "      <th>cleaned_price_string</th>\n",
       "    </tr>\n",
       "  </thead>\n",
       "  <tbody>\n",
       "    <tr>\n",
       "      <th>2</th>\n",
       "      <td>$19.95</td>\n",
       "      <td>Dollar</td>\n",
       "      <td>19.95</td>\n",
       "      <td>$19.95</td>\n",
       "    </tr>\n",
       "    <tr>\n",
       "      <th>3</th>\n",
       "      <td>$92.00</td>\n",
       "      <td>Dollar</td>\n",
       "      <td>92.00</td>\n",
       "      <td>$92.0</td>\n",
       "    </tr>\n",
       "    <tr>\n",
       "      <th>4</th>\n",
       "      <td>11.50</td>\n",
       "      <td>Dollar</td>\n",
       "      <td>11.50</td>\n",
       "      <td>$11.5</td>\n",
       "    </tr>\n",
       "    <tr>\n",
       "      <th>6</th>\n",
       "      <td>$24.99</td>\n",
       "      <td>Dollar</td>\n",
       "      <td>24.99</td>\n",
       "      <td>$24.99</td>\n",
       "    </tr>\n",
       "    <tr>\n",
       "      <th>7</th>\n",
       "      <td>$148.00</td>\n",
       "      <td>Dollar</td>\n",
       "      <td>148.00</td>\n",
       "      <td>$148.0</td>\n",
       "    </tr>\n",
       "    <tr>\n",
       "      <th>8</th>\n",
       "      <td>$89</td>\n",
       "      <td>Dollar</td>\n",
       "      <td>89.00</td>\n",
       "      <td>$89.0</td>\n",
       "    </tr>\n",
       "    <tr>\n",
       "      <th>9</th>\n",
       "      <td>$14.95</td>\n",
       "      <td>Dollar</td>\n",
       "      <td>14.95</td>\n",
       "      <td>$14.95</td>\n",
       "    </tr>\n",
       "    <tr>\n",
       "      <th>10</th>\n",
       "      <td>$55.00</td>\n",
       "      <td>Dollar</td>\n",
       "      <td>55.00</td>\n",
       "      <td>$55.0</td>\n",
       "    </tr>\n",
       "    <tr>\n",
       "      <th>11</th>\n",
       "      <td>32.99</td>\n",
       "      <td>Dollar</td>\n",
       "      <td>32.99</td>\n",
       "      <td>$32.99</td>\n",
       "    </tr>\n",
       "    <tr>\n",
       "      <th>12</th>\n",
       "      <td>$92.00</td>\n",
       "      <td>Dollar</td>\n",
       "      <td>92.00</td>\n",
       "      <td>$92.0</td>\n",
       "    </tr>\n",
       "  </tbody>\n",
       "</table>\n",
       "</div>"
      ],
      "text/plain": [
       "   price_string currency   value cleaned_price_string\n",
       "2        $19.95   Dollar   19.95               $19.95\n",
       "3        $92.00   Dollar   92.00                $92.0\n",
       "4         11.50   Dollar   11.50                $11.5\n",
       "6        $24.99   Dollar   24.99               $24.99\n",
       "7       $148.00   Dollar  148.00               $148.0\n",
       "8           $89   Dollar   89.00                $89.0\n",
       "9        $14.95   Dollar   14.95               $14.95\n",
       "10       $55.00   Dollar   55.00                $55.0\n",
       "11        32.99   Dollar   32.99               $32.99\n",
       "12       $92.00   Dollar   92.00                $92.0"
      ]
     },
     "execution_count": 50,
     "metadata": {},
     "output_type": "execute_result"
    }
   ],
   "source": [
    "cdf[\"currency\"] = \"Dollar\"\n",
    "cdf[\"value\"] = cdf[\"price_string\"].replace(\"[$,]\", \"\", regex=True).astype(float)\n",
    "cdf[\"cleaned_price_string\"] = cdf['value'].apply( lambda x : '$' + str(x))\n",
    "cdf.head(10)"
   ]
  },
  {
   "cell_type": "code",
   "execution_count": null,
   "metadata": {},
   "outputs": [],
   "source": []
  },
  {
   "cell_type": "markdown",
   "metadata": {},
   "source": [
    "### 4. List out the categories with average price of product."
   ]
  },
  {
   "cell_type": "code",
   "execution_count": 51,
   "metadata": {},
   "outputs": [
    {
     "data": {
      "text/plain": [
       "Q2xvdGhpbmcgYW5kIEFjY2Vzc29yaWVz       3910000\n",
       "Z3JvY2VyaWVz                           1610000\n",
       "SG91c2Vob2xkIGFuZCBDbGVhbmluZw         1570000\n",
       "YmVhdXR5IGFuZCBwZXJzb25hbCBjYXJl       1470000\n",
       "SGVhbHRo                                990000\n",
       "VG95cyBhbmQgR2FtZXM                     790000\n",
       "cGV0IHN1cHBsaWVz                        740000\n",
       "QmFieWNhcmU                             660000\n",
       "a2l0Y2hpbmcgYW5kIGRpbmluZw              590000\n",
       "VG9vbHMgYW5kIGhvbWUgaW1wcm92ZW1lbnQ     520000\n",
       "RWxlY3Ryb25pY3M                         320000\n",
       "QXJ0IHN1cHBsaWVz                        320000\n",
       "b2ZmaWNlIHByb2R1Y3Rz                    230000\n",
       "Name: category, dtype: int64"
      ]
     },
     "execution_count": 51,
     "metadata": {},
     "output_type": "execute_result"
    }
   ],
   "source": [
    "df.category.value_counts()"
   ]
  },
  {
   "cell_type": "code",
   "execution_count": 52,
   "metadata": {},
   "outputs": [
    {
     "data": {
      "text/html": [
       "<div>\n",
       "<style scoped>\n",
       "    .dataframe tbody tr th:only-of-type {\n",
       "        vertical-align: middle;\n",
       "    }\n",
       "\n",
       "    .dataframe tbody tr th {\n",
       "        vertical-align: top;\n",
       "    }\n",
       "\n",
       "    .dataframe thead th {\n",
       "        text-align: right;\n",
       "    }\n",
       "</style>\n",
       "<table border=\"1\" class=\"dataframe\">\n",
       "  <thead>\n",
       "    <tr style=\"text-align: right;\">\n",
       "      <th></th>\n",
       "      <th>price_string</th>\n",
       "      <th>category</th>\n",
       "    </tr>\n",
       "  </thead>\n",
       "  <tbody>\n",
       "    <tr>\n",
       "      <th>0</th>\n",
       "      <td>NaN</td>\n",
       "      <td>RWxlY3Ryb25pY3M</td>\n",
       "    </tr>\n",
       "    <tr>\n",
       "      <th>1</th>\n",
       "      <td>NaN</td>\n",
       "      <td>a2l0Y2hpbmcgYW5kIGRpbmluZw</td>\n",
       "    </tr>\n",
       "    <tr>\n",
       "      <th>2</th>\n",
       "      <td>$19.95</td>\n",
       "      <td>SGVhbHRo</td>\n",
       "    </tr>\n",
       "    <tr>\n",
       "      <th>3</th>\n",
       "      <td>$92.00</td>\n",
       "      <td>YmVhdXR5IGFuZCBwZXJzb25hbCBjYXJl</td>\n",
       "    </tr>\n",
       "    <tr>\n",
       "      <th>4</th>\n",
       "      <td>11.50</td>\n",
       "      <td>a2l0Y2hpbmcgYW5kIGRpbmluZw</td>\n",
       "    </tr>\n",
       "  </tbody>\n",
       "</table>\n",
       "</div>"
      ],
      "text/plain": [
       "  price_string                          category\n",
       "0          NaN                   RWxlY3Ryb25pY3M\n",
       "1          NaN        a2l0Y2hpbmcgYW5kIGRpbmluZw\n",
       "2       $19.95                          SGVhbHRo\n",
       "3       $92.00  YmVhdXR5IGFuZCBwZXJzb25hbCBjYXJl\n",
       "4        11.50        a2l0Y2hpbmcgYW5kIGRpbmluZw"
      ]
     },
     "execution_count": 52,
     "metadata": {},
     "output_type": "execute_result"
    }
   ],
   "source": [
    "nwdf = df[[\"price_string\",\"category\"]]\n",
    "nwdf.head()"
   ]
  },
  {
   "cell_type": "code",
   "execution_count": 53,
   "metadata": {},
   "outputs": [
    {
     "data": {
      "text/plain": [
       "price_string    8220000\n",
       "category          10000\n",
       "dtype: int64"
      ]
     },
     "execution_count": 53,
     "metadata": {},
     "output_type": "execute_result"
    }
   ],
   "source": [
    "nwdf.isnull().sum()"
   ]
  },
  {
   "cell_type": "code",
   "execution_count": 54,
   "metadata": {},
   "outputs": [
    {
     "data": {
      "text/plain": [
       "price_string    0\n",
       "category        0\n",
       "dtype: int64"
      ]
     },
     "execution_count": 54,
     "metadata": {},
     "output_type": "execute_result"
    }
   ],
   "source": [
    "nwdf = nwdf[nwdf['price_string'].notna()]\n",
    "nwdf.isnull().sum()"
   ]
  },
  {
   "cell_type": "code",
   "execution_count": 55,
   "metadata": {},
   "outputs": [
    {
     "data": {
      "text/plain": [
       "dtype('O')"
      ]
     },
     "execution_count": 55,
     "metadata": {},
     "output_type": "execute_result"
    }
   ],
   "source": [
    "nwdf.price_string.dtype"
   ]
  },
  {
   "cell_type": "code",
   "execution_count": 56,
   "metadata": {},
   "outputs": [],
   "source": [
    "nwdf[\"price_string\"] = nwdf[\"price_string\"].replace(\"[$,]\", \"\", regex=True).astype(float)"
   ]
  },
  {
   "cell_type": "code",
   "execution_count": 57,
   "metadata": {},
   "outputs": [
    {
     "data": {
      "text/html": [
       "<div>\n",
       "<style scoped>\n",
       "    .dataframe tbody tr th:only-of-type {\n",
       "        vertical-align: middle;\n",
       "    }\n",
       "\n",
       "    .dataframe tbody tr th {\n",
       "        vertical-align: top;\n",
       "    }\n",
       "\n",
       "    .dataframe thead th {\n",
       "        text-align: right;\n",
       "    }\n",
       "</style>\n",
       "<table border=\"1\" class=\"dataframe\">\n",
       "  <thead>\n",
       "    <tr style=\"text-align: right;\">\n",
       "      <th></th>\n",
       "      <th>price_string</th>\n",
       "      <th>category</th>\n",
       "    </tr>\n",
       "  </thead>\n",
       "  <tbody>\n",
       "    <tr>\n",
       "      <th>2</th>\n",
       "      <td>19.95</td>\n",
       "      <td>SGVhbHRo</td>\n",
       "    </tr>\n",
       "    <tr>\n",
       "      <th>3</th>\n",
       "      <td>92.00</td>\n",
       "      <td>YmVhdXR5IGFuZCBwZXJzb25hbCBjYXJl</td>\n",
       "    </tr>\n",
       "    <tr>\n",
       "      <th>4</th>\n",
       "      <td>11.50</td>\n",
       "      <td>a2l0Y2hpbmcgYW5kIGRpbmluZw</td>\n",
       "    </tr>\n",
       "    <tr>\n",
       "      <th>6</th>\n",
       "      <td>24.99</td>\n",
       "      <td>SG91c2Vob2xkIGFuZCBDbGVhbmluZw</td>\n",
       "    </tr>\n",
       "    <tr>\n",
       "      <th>7</th>\n",
       "      <td>148.00</td>\n",
       "      <td>Q2xvdGhpbmcgYW5kIEFjY2Vzc29yaWVz</td>\n",
       "    </tr>\n",
       "    <tr>\n",
       "      <th>8</th>\n",
       "      <td>89.00</td>\n",
       "      <td>Q2xvdGhpbmcgYW5kIEFjY2Vzc29yaWVz</td>\n",
       "    </tr>\n",
       "    <tr>\n",
       "      <th>9</th>\n",
       "      <td>14.95</td>\n",
       "      <td>VG95cyBhbmQgR2FtZXM</td>\n",
       "    </tr>\n",
       "    <tr>\n",
       "      <th>10</th>\n",
       "      <td>55.00</td>\n",
       "      <td>QXJ0IHN1cHBsaWVz</td>\n",
       "    </tr>\n",
       "    <tr>\n",
       "      <th>11</th>\n",
       "      <td>32.99</td>\n",
       "      <td>a2l0Y2hpbmcgYW5kIGRpbmluZw</td>\n",
       "    </tr>\n",
       "    <tr>\n",
       "      <th>12</th>\n",
       "      <td>92.00</td>\n",
       "      <td>YmVhdXR5IGFuZCBwZXJzb25hbCBjYXJl</td>\n",
       "    </tr>\n",
       "  </tbody>\n",
       "</table>\n",
       "</div>"
      ],
      "text/plain": [
       "    price_string                          category\n",
       "2          19.95                          SGVhbHRo\n",
       "3          92.00  YmVhdXR5IGFuZCBwZXJzb25hbCBjYXJl\n",
       "4          11.50        a2l0Y2hpbmcgYW5kIGRpbmluZw\n",
       "6          24.99    SG91c2Vob2xkIGFuZCBDbGVhbmluZw\n",
       "7         148.00  Q2xvdGhpbmcgYW5kIEFjY2Vzc29yaWVz\n",
       "8          89.00  Q2xvdGhpbmcgYW5kIEFjY2Vzc29yaWVz\n",
       "9          14.95               VG95cyBhbmQgR2FtZXM\n",
       "10         55.00                  QXJ0IHN1cHBsaWVz\n",
       "11         32.99        a2l0Y2hpbmcgYW5kIGRpbmluZw\n",
       "12         92.00  YmVhdXR5IGFuZCBwZXJzb25hbCBjYXJl"
      ]
     },
     "execution_count": 57,
     "metadata": {},
     "output_type": "execute_result"
    }
   ],
   "source": [
    "nwdf.head(10)"
   ]
  },
  {
   "cell_type": "code",
   "execution_count": 58,
   "metadata": {},
   "outputs": [
    {
     "data": {
      "text/plain": [
       "category\n",
       "Q2xvdGhpbmcgYW5kIEFjY2Vzc29yaWVz       125.413871\n",
       "QXJ0IHN1cHBsaWVz                        19.471053\n",
       "QmFieWNhcmU                            163.688889\n",
       "RWxlY3Ryb25pY3M                         60.258182\n",
       "SG91c2Vob2xkIGFuZCBDbGVhbmluZw          76.199000\n",
       "SGVhbHRo                                32.557586\n",
       "VG95cyBhbmQgR2FtZXM                     32.448947\n",
       "VG9vbHMgYW5kIGhvbWUgaW1wcm92ZW1lbnQ     82.223500\n",
       "YmVhdXR5IGFuZCBwZXJzb25hbCBjYXJl        34.745067\n",
       "Z3JvY2VyaWVz                            10.541667\n",
       "a2l0Y2hpbmcgYW5kIGRpbmluZw              16.703235\n",
       "b2ZmaWNlIHByb2R1Y3Rz                    20.480000\n",
       "cGV0IHN1cHBsaWVz                        14.181875\n",
       "Name: price_string, dtype: float64"
      ]
     },
     "execution_count": 58,
     "metadata": {},
     "output_type": "execute_result"
    }
   ],
   "source": [
    "nwdf.groupby(['category'])['price_string'].mean()"
   ]
  },
  {
   "cell_type": "code",
   "execution_count": null,
   "metadata": {},
   "outputs": [],
   "source": []
  },
  {
   "cell_type": "code",
   "execution_count": null,
   "metadata": {},
   "outputs": [],
   "source": []
  },
  {
   "cell_type": "code",
   "execution_count": null,
   "metadata": {},
   "outputs": [],
   "source": []
  }
 ],
 "metadata": {
  "kernelspec": {
   "display_name": "Python 3",
   "language": "python",
   "name": "python3"
  },
  "language_info": {
   "codemirror_mode": {
    "name": "ipython",
    "version": 3
   },
   "file_extension": ".py",
   "mimetype": "text/x-python",
   "name": "python",
   "nbconvert_exporter": "python",
   "pygments_lexer": "ipython3",
   "version": "3.8.5"
  }
 },
 "nbformat": 4,
 "nbformat_minor": 4
}
